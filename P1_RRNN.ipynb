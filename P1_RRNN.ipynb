{
  "nbformat": 4,
  "nbformat_minor": 0,
  "metadata": {
    "colab": {
      "provenance": [],
      "include_colab_link": true
    },
    "kernelspec": {
      "name": "python3",
      "display_name": "Python 3"
    },
    "language_info": {
      "name": "python"
    }
  },
  "cells": [
    {
      "cell_type": "markdown",
      "metadata": {
        "id": "view-in-github",
        "colab_type": "text"
      },
      "source": [
        "<a href=\"https://colab.research.google.com/github/cabamarcos/P1-RRNN/blob/main/P1_RRNN.ipynb\" target=\"_parent\"><img src=\"https://colab.research.google.com/assets/colab-badge.svg\" alt=\"Open In Colab\"/></a>"
      ]
    },
    {
      "cell_type": "markdown",
      "source": [
        "![LogoUC3M](data:image/png;base64,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)\n",
        "\n",
        "# PRÁCTICA 1: REDES DE NEURONAS\n",
        "Autores: Pablo Hidalgo Delgado y Marcos Caballero Cortés   \n",
        "\n",
        "NIAs: 100451225 y 100451247\n"
      ],
      "metadata": {
        "id": "EmYCUYAaj0kB"
      }
    },
    {
      "cell_type": "markdown",
      "source": [
        "#PREGUNTAS PROFE\n",
        "\n",
        "\n",
        "*   La normalización debe ser de todo el conjunto de datos incluida la variable de respuesta (y) o solo de X????\n",
        "\n",
        "* Si es solo de X, que habría que desnormalizar?? (en una clase dijiste que habría que desnormalizar) La salida en cada iteración del adaline?\n",
        "\n",
        "* Repasar implementación adaline--> para actualizar los pesos calculamos en cada época cual sería el nuevo valor de los pesos para cada entrada y luego cogemos la media para actualizarlo.\n",
        "\n",
        "* resultados del MSE de perceptron con RELU y sigmoide --> puede ser debido a algo relacionado con la normalización de los datos?\n",
        "\n",
        "\n",
        "\n",
        "\n",
        "\n"
      ],
      "metadata": {
        "id": "wXYFzwdiGfW-"
      }
    },
    {
      "cell_type": "markdown",
      "source": [
        "## 1. Introducción\n",
        "El propósito de esta práctica es abordar un problema real de regresión utilizando dos modelos de redes de neuronas supervisados:\n",
        "\n",
        "*   El modelo lineal Adaline.\n",
        "*   El modelo no-lineal Perceptrón Multicapa.\n",
        "\n",
        "Para ello, se nos dispone de un conjunto de datos relacionados con medidas realizadas en una turbina de gas a lo largo de 4 años. Debemos predecir el rendimiento energético de la turbina, mostrado en el campo TEY, haciendo uso del resto de mediciones de sensores.\n",
        "\n",
        "\n"
      ],
      "metadata": {
        "id": "bKPNG-Js-nLU"
      }
    },
    {
      "cell_type": "markdown",
      "source": [
        "## 2. Leer los conjuntos de datos\n"
      ],
      "metadata": {
        "id": "B9zbIk4Jq81r"
      }
    },
    {
      "cell_type": "markdown",
      "source": [
        "En primer lugar, importamos todas las librerías que se van a utilizar a lo largo de la práctica"
      ],
      "metadata": {
        "id": "1a3tpfhSBrhA"
      }
    },
    {
      "cell_type": "code",
      "source": [
        "import random\n",
        "import time\n",
        "\n",
        "import numpy as np\n",
        "import pandas as pd\n",
        "\n",
        "from sklearn.model_selection import train_test_split\n",
        "from sklearn.metrics import mean_squared_error, mean_absolute_error\n",
        "import seaborn as sns\n",
        "import matplotlib.pyplot as plt"
      ],
      "metadata": {
        "id": "OKy5cM5JBhxM"
      },
      "execution_count": 1,
      "outputs": []
    },
    {
      "cell_type": "markdown",
      "source": [
        "Leemos los conjuntos de datos, correspondientes a las medidas de 1 solo año, y los juntamos en un mismo dataframe de pandas."
      ],
      "metadata": {
        "id": "DsrHpGp1Bmvf"
      }
    },
    {
      "cell_type": "code",
      "source": [
        "archivos_csv = ['gt_2011.csv', 'gt_2012.csv', 'gt_2013.csv', 'gt_2014.csv', 'gt_2015.csv']\n",
        "\n",
        "datos = pd.DataFrame()\n",
        "\n",
        "# Concatenamos todos los archivos en un mismo dataframe\n",
        "for archivo in archivos_csv:\n",
        "    # Leemos el archivo\n",
        "    df_temporal = pd.read_csv(archivo)\n",
        "    # Concatenamos el archivo en el dataframe final\n",
        "    datos = pd.concat([datos, df_temporal], ignore_index=True)"
      ],
      "metadata": {
        "id": "xeeZVeeNBbDE"
      },
      "execution_count": 2,
      "outputs": []
    },
    {
      "cell_type": "markdown",
      "source": [
        "## 3. Análisis Exploratorio de Datos (EDA)\n",
        "Antes de empezar con la división en datos de entrenamiento y test, vamos a realizar un pequeño análisis exploratorio de datos (EDA). De esta manera, podremos investigar y resumir las características más importantes de nuestro dataset. Esto nos servirá para comprender mejor los datos y optimizar la obtención de nuestro modelo.\n"
      ],
      "metadata": {
        "id": "xZQ8fVf2CJZC"
      }
    },
    {
      "cell_type": "markdown",
      "source": [
        "### 3.1 Información básica"
      ],
      "metadata": {
        "id": "ZeDPQVCTVysk"
      }
    },
    {
      "cell_type": "code",
      "source": [
        "datos.info(memory_usage = 'deep')"
      ],
      "metadata": {
        "id": "_WJ_EVupVu52",
        "outputId": "e902b9c9-7008-4551-db67-144e6225028b",
        "colab": {
          "base_uri": "https://localhost:8080/"
        }
      },
      "execution_count": 3,
      "outputs": [
        {
          "output_type": "stream",
          "name": "stdout",
          "text": [
            "<class 'pandas.core.frame.DataFrame'>\n",
            "RangeIndex: 36733 entries, 0 to 36732\n",
            "Data columns (total 11 columns):\n",
            " #   Column  Non-Null Count  Dtype  \n",
            "---  ------  --------------  -----  \n",
            " 0   AT      36733 non-null  float64\n",
            " 1   AP      36733 non-null  float64\n",
            " 2   AH      36733 non-null  float64\n",
            " 3   AFDP    36733 non-null  float64\n",
            " 4   GTEP    36733 non-null  float64\n",
            " 5   TIT     36733 non-null  float64\n",
            " 6   TAT     36733 non-null  float64\n",
            " 7   TEY     36733 non-null  float64\n",
            " 8   CDP     36733 non-null  float64\n",
            " 9   CO      36733 non-null  float64\n",
            " 10  NOX     36733 non-null  float64\n",
            "dtypes: float64(11)\n",
            "memory usage: 3.1 MB\n"
          ]
        }
      ]
    },
    {
      "cell_type": "markdown",
      "source": [
        "El conjunto de datos se compone de 36733 instancias y 11 atributos de tipo float64.\n",
        "\n",
        "También podemos observar que no existen columnas que contengan valores nulos."
      ],
      "metadata": {
        "id": "e3_ymU7Se3rV"
      }
    },
    {
      "cell_type": "markdown",
      "source": [
        "### 3.2 Atributos compuestos de valores constantes\n",
        "\n",
        "A continuación, vamos a analizar si existen columnas constantes en nuestro conjunto de datos. En ese caso, podremos eliminarlas de nuestro dataset ya que no aportan ninguna información a la variable de respuesta y no existe riesgo de information leakage."
      ],
      "metadata": {
        "id": "MwK44ILqYzQF"
      }
    },
    {
      "cell_type": "code",
      "source": [
        "# Eliminamos las columnas con solo un valor único\n",
        "columnas_constantes = []\n",
        "for col in datos.columns:\n",
        "    if datos[col].nunique() == 1:\n",
        "        print(col)\n",
        "        columnas_constantes.append(col)\n",
        "if len(columnas_constantes) == 0:\n",
        "  print(\"No existen atributos con valores constantes\")"
      ],
      "metadata": {
        "id": "psvJsTbCY7nO",
        "outputId": "c7369ab9-3f45-49f8-b02d-9e351e86a831",
        "colab": {
          "base_uri": "https://localhost:8080/"
        }
      },
      "execution_count": 4,
      "outputs": [
        {
          "output_type": "stream",
          "name": "stdout",
          "text": [
            "No existen atributos con valores constantes\n"
          ]
        }
      ]
    },
    {
      "cell_type": "markdown",
      "source": [
        "### 3.3 Correlación entre atributos\n",
        "En este apartado, vamos a estudiar la correlación entre los atributos de los datos disponibles. Nos interesa conocer el par de atributos que tienen una correlación especialmente alta (> 0.95) entre ellos para así poder determinar cuáles aportan a la variable de respuesta una información extremadamente similar que su pareja. En esta situación, podríamos plantearnos descartar uno de ellos para reducir la dimensionalidad del problema."
      ],
      "metadata": {
        "id": "Q3Pk8DH3qI4t"
      }
    },
    {
      "cell_type": "code",
      "source": [
        "matriz_correlacion = datos.corr().abs()\n",
        "sns.heatmap(matriz_correlacion, annot=True, cmap='coolwarm')\n",
        "plt.title('Matriz de Correlación (Valores Absolutos)')\n",
        "plt.show()"
      ],
      "metadata": {
        "id": "Ln2eclKxl30o",
        "outputId": "90b69d2b-88b1-4393-8552-f50878d92983",
        "colab": {
          "base_uri": "https://localhost:8080/",
          "height": 475
        }
      },
      "execution_count": 5,
      "outputs": [
        {
          "output_type": "display_data",
          "data": {
            "text/plain": [
              "<Figure size 640x480 with 2 Axes>"
            ],
            "image/png": "[encoded data removed]"
          },
          "metadata": {}
        }
      ]
    },
    {
      "cell_type": "markdown",
      "source": [
        "Como vemos, TEY está muy correlacionada con CDP y GTEP; y CDP está muy correlacionada con GTEP. Como podemos observar, las tres columnas están muy correlacionadas, por lo que al ser TEY nuestra columna objetivo, no podemos suprimir datos que están tan correlacionados con la solución, ya que supondría empeorar las predicciones.\n",
        "\n",
        "TAMBIÉN OBSERVAMOS QUE GTEP Y CDP ESTÁN ALTAMENTE CORRELACIONADAS ENTRE SÍ. ADEMÁS, FIJÁNDONOS EN AMBAS COLUMNAS EN LA MATRIZ DE CORRELACIÓN, PODEMOS OBSERVAR QUE LOS VALORES SON BASTANTE SIMILARES Y LA CORRELACIÓN CON LAS DEMÁS ES BASTANTE PARECIDA. ESTO NOS HACE PENSAR QUE PODEMOS ELIMINAR UNA DE ESTAS COLUMNAS\n",
        "¡¡¡¡¡¡....... REDACTAR MEJOR........!!!!!"
      ],
      "metadata": {
        "id": "S7s4hHaXsQk6"
      }
    },
    {
      "cell_type": "markdown",
      "source": [
        "## 4. División de datos en train, validation y test.\n",
        "Una vez explorado y analizado nuestro conjunto de datos, dividimos el dataset en conjuntos de entrenamiento (train), prueba (test) y validación (validation). Para ello, utilizamos la función train_test_split de la librería sklearn. Dividimos los datos en un 70% para train, un 15% para test, y un 15% para validation tal y como se nos pide en el enunciado de la práctica."
      ],
      "metadata": {
        "id": "vkFFsIZce9Kx"
      }
    },
    {
      "cell_type": "markdown",
      "source": [
        "Antes de realizar la división, debemos separar la variable de respuesta del resto del conjunto de datos."
      ],
      "metadata": {
        "id": "LRpacJZxTqCF"
      }
    },
    {
      "cell_type": "code",
      "source": [
        "X = datos.drop(\"TEY\", axis = 1)\n",
        "y = datos[\"TEY\"]\n",
        "X"
      ],
      "metadata": {
        "colab": {
          "base_uri": "https://localhost:8080/",
          "height": 424
        },
        "id": "AJERmAn2I8Vq",
        "outputId": "ffd4079a-af43-4139-aa2c-d56c347295ec"
      },
      "execution_count": 6,
      "outputs": [
        {
          "output_type": "execute_result",
          "data": {
            "text/plain": [
              "           AT      AP      AH    AFDP    GTEP     TIT     TAT     CDP  \\\n",
              "0      4.5878  1018.7  83.675  3.5758  23.979  1086.2  549.83  11.898   \n",
              "1      4.2932  1018.3  84.235  3.5709  23.951  1086.1  550.05  11.892   \n",
              "2      3.9045  1018.4  84.858  3.5828  23.990  1086.5  550.19  12.042   \n",
              "3      3.7436  1018.3  85.434  3.5808  23.911  1086.5  550.17  11.990   \n",
              "4      3.7516  1017.8  85.182  3.5781  23.917  1085.9  550.00  11.910   \n",
              "...       ...     ...     ...     ...     ...     ...     ...     ...   \n",
              "36728  3.6268  1028.5  93.200  3.1661  19.087  1037.0  541.59  10.411   \n",
              "36729  4.1674  1028.6  94.036  3.1923  19.016  1037.6  542.28  10.344   \n",
              "36730  5.4820  1028.5  95.219  3.3128  18.857  1038.0  543.48  10.462   \n",
              "36731  5.8837  1028.7  94.200  3.9831  23.563  1076.9  550.11  11.771   \n",
              "36732  6.0392  1028.8  94.547  3.8752  22.524  1067.9  548.23  11.462   \n",
              "\n",
              "             CO      NOX  \n",
              "0       0.32663   81.952  \n",
              "1       0.44784   82.377  \n",
              "2       0.45144   83.776  \n",
              "3       0.23107   82.505  \n",
              "4       0.26747   82.028  \n",
              "...         ...      ...  \n",
              "36728  10.99300   89.172  \n",
              "36729  11.14400   88.849  \n",
              "36730  11.41400   96.147  \n",
              "36731   3.31340   64.738  \n",
              "36732  11.98100  109.240  \n",
              "\n",
              "[36733 rows x 10 columns]"
            ],
            "text/html": [
              "\n",
              "  <div id=\"df-5ff4cd38-73ab-4d57-b107-8a8da3454084\" class=\"colab-df-container\">\n",
              "    <div>\n",
              "<style scoped>\n",
              "    .dataframe tbody tr th:only-of-type {\n",
              "        vertical-align: middle;\n",
              "    }\n",
              "\n",
              "    .dataframe tbody tr th {\n",
              "        vertical-align: top;\n",
              "    }\n",
              "\n",
              "    .dataframe thead th {\n",
              "        text-align: right;\n",
              "    }\n",
              "</style>\n",
              "<table border=\"1\" class=\"dataframe\">\n",
              "  <thead>\n",
              "    <tr style=\"text-align: right;\">\n",
              "      <th></th>\n",
              "      <th>AT</th>\n",
              "      <th>AP</th>\n",
              "      <th>AH</th>\n",
              "      <th>AFDP</th>\n",
              "      <th>GTEP</th>\n",
              "      <th>TIT</th>\n",
              "      <th>TAT</th>\n",
              "      <th>CDP</th>\n",
              "      <th>CO</th>\n",
              "      <th>NOX</th>\n",
              "    </tr>\n",
              "  </thead>\n",
              "  <tbody>\n",
              "    <tr>\n",
              "      <th>0</th>\n",
              "      <td>4.5878</td>\n",
              "      <td>1018.7</td>\n",
              "      <td>83.675</td>\n",
              "      <td>3.5758</td>\n",
              "      <td>23.979</td>\n",
              "      <td>1086.2</td>\n",
              "      <td>549.83</td>\n",
              "      <td>11.898</td>\n",
              "      <td>0.32663</td>\n",
              "      <td>81.952</td>\n",
              "    </tr>\n",
              "    <tr>\n",
              "      <th>1</th>\n",
              "      <td>4.2932</td>\n",
              "      <td>1018.3</td>\n",
              "      <td>84.235</td>\n",
              "      <td>3.5709</td>\n",
              "      <td>23.951</td>\n",
              "      <td>1086.1</td>\n",
              "      <td>550.05</td>\n",
              "      <td>11.892</td>\n",
              "      <td>0.44784</td>\n",
              "      <td>82.377</td>\n",
              "    </tr>\n",
              "    <tr>\n",
              "      <th>2</th>\n",
              "      <td>3.9045</td>\n",
              "      <td>1018.4</td>\n",
              "      <td>84.858</td>\n",
              "      <td>3.5828</td>\n",
              "      <td>23.990</td>\n",
              "      <td>1086.5</td>\n",
              "      <td>550.19</td>\n",
              "      <td>12.042</td>\n",
              "      <td>0.45144</td>\n",
              "      <td>83.776</td>\n",
              "    </tr>\n",
              "    <tr>\n",
              "      <th>3</th>\n",
              "      <td>3.7436</td>\n",
              "      <td>1018.3</td>\n",
              "      <td>85.434</td>\n",
              "      <td>3.5808</td>\n",
              "      <td>23.911</td>\n",
              "      <td>1086.5</td>\n",
              "      <td>550.17</td>\n",
              "      <td>11.990</td>\n",
              "      <td>0.23107</td>\n",
              "      <td>82.505</td>\n",
              "    </tr>\n",
              "    <tr>\n",
              "      <th>4</th>\n",
              "      <td>3.7516</td>\n",
              "      <td>1017.8</td>\n",
              "      <td>85.182</td>\n",
              "      <td>3.5781</td>\n",
              "      <td>23.917</td>\n",
              "      <td>1085.9</td>\n",
              "      <td>550.00</td>\n",
              "      <td>11.910</td>\n",
              "      <td>0.26747</td>\n",
              "      <td>82.028</td>\n",
              "    </tr>\n",
              "    <tr>\n",
              "      <th>...</th>\n",
              "      <td>...</td>\n",
              "      <td>...</td>\n",
              "      <td>...</td>\n",
              "      <td>...</td>\n",
              "      <td>...</td>\n",
              "      <td>...</td>\n",
              "      <td>...</td>\n",
              "      <td>...</td>\n",
              "      <td>...</td>\n",
              "      <td>...</td>\n",
              "    </tr>\n",
              "    <tr>\n",
              "      <th>36728</th>\n",
              "      <td>3.6268</td>\n",
              "      <td>1028.5</td>\n",
              "      <td>93.200</td>\n",
              "      <td>3.1661</td>\n",
              "      <td>19.087</td>\n",
              "      <td>1037.0</td>\n",
              "      <td>541.59</td>\n",
              "      <td>10.411</td>\n",
              "      <td>10.99300</td>\n",
              "      <td>89.172</td>\n",
              "    </tr>\n",
              "    <tr>\n",
              "      <th>36729</th>\n",
              "      <td>4.1674</td>\n",
              "      <td>1028.6</td>\n",
              "      <td>94.036</td>\n",
              "      <td>3.1923</td>\n",
              "      <td>19.016</td>\n",
              "      <td>1037.6</td>\n",
              "      <td>542.28</td>\n",
              "      <td>10.344</td>\n",
              "      <td>11.14400</td>\n",
              "      <td>88.849</td>\n",
              "    </tr>\n",
              "    <tr>\n",
              "      <th>36730</th>\n",
              "      <td>5.4820</td>\n",
              "      <td>1028.5</td>\n",
              "      <td>95.219</td>\n",
              "      <td>3.3128</td>\n",
              "      <td>18.857</td>\n",
              "      <td>1038.0</td>\n",
              "      <td>543.48</td>\n",
              "      <td>10.462</td>\n",
              "      <td>11.41400</td>\n",
              "      <td>96.147</td>\n",
              "    </tr>\n",
              "    <tr>\n",
              "      <th>36731</th>\n",
              "      <td>5.8837</td>\n",
              "      <td>1028.7</td>\n",
              "      <td>94.200</td>\n",
              "      <td>3.9831</td>\n",
              "      <td>23.563</td>\n",
              "      <td>1076.9</td>\n",
              "      <td>550.11</td>\n",
              "      <td>11.771</td>\n",
              "      <td>3.31340</td>\n",
              "      <td>64.738</td>\n",
              "    </tr>\n",
              "    <tr>\n",
              "      <th>36732</th>\n",
              "      <td>6.0392</td>\n",
              "      <td>1028.8</td>\n",
              "      <td>94.547</td>\n",
              "      <td>3.8752</td>\n",
              "      <td>22.524</td>\n",
              "      <td>1067.9</td>\n",
              "      <td>548.23</td>\n",
              "      <td>11.462</td>\n",
              "      <td>11.98100</td>\n",
              "      <td>109.240</td>\n",
              "    </tr>\n",
              "  </tbody>\n",
              "</table>\n",
              "<p>36733 rows × 10 columns</p>\n",
              "</div>\n",
              "    <div class=\"colab-df-buttons\">\n",
              "\n",
              "  <div class=\"colab-df-container\">\n",
              "    <button class=\"colab-df-convert\" onclick=\"convertToInteractive('df-5ff4cd38-73ab-4d57-b107-8a8da3454084')\"\n",
              "            title=\"Convert this dataframe to an interactive table.\"\n",
              "            style=\"display:none;\">\n",
              "\n",
              "  <svg xmlns=\"http://www.w3.org/2000/svg\" height=\"24px\" viewBox=\"0 -960 960 960\">\n",
              "    <path d=\"M120-120v-720h720v720H120Zm60-500h600v-160H180v160Zm220 220h160v-160H400v160Zm0 220h160v-160H400v160ZM180-400h160v-160H180v160Zm440 0h160v-160H620v160ZM180-180h160v-160H180v160Zm440 0h160v-160H620v160Z\"/>\n",
              "  </svg>\n",
              "    </button>\n",
              "\n",
              "  <style>\n",
              "    .colab-df-container {\n",
              "      display:flex;\n",
              "      gap: 12px;\n",
              "    }\n",
              "\n",
              "    .colab-df-convert {\n",
              "      background-color: #E8F0FE;\n",
              "      border: none;\n",
              "      border-radius: 50%;\n",
              "      cursor: pointer;\n",
              "      display: none;\n",
              "      fill: #1967D2;\n",
              "      height: 32px;\n",
              "      padding: 0 0 0 0;\n",
              "      width: 32px;\n",
              "    }\n",
              "\n",
              "    .colab-df-convert:hover {\n",
              "      background-color: #E2EBFA;\n",
              "      box-shadow: 0px 1px 2px rgba(60, 64, 67, 0.3), 0px 1px 3px 1px rgba(60, 64, 67, 0.15);\n",
              "      fill: #174EA6;\n",
              "    }\n",
              "\n",
              "    .colab-df-buttons div {\n",
              "      margin-bottom: 4px;\n",
              "    }\n",
              "\n",
              "    [theme=dark] .colab-df-convert {\n",
              "      background-color: #3B4455;\n",
              "      fill: #D2E3FC;\n",
              "    }\n",
              "\n",
              "    [theme=dark] .colab-df-convert:hover {\n",
              "      background-color: #434B5C;\n",
              "      box-shadow: 0px 1px 3px 1px rgba(0, 0, 0, 0.15);\n",
              "      filter: drop-shadow(0px 1px 2px rgba(0, 0, 0, 0.3));\n",
              "      fill: #FFFFFF;\n",
              "    }\n",
              "  </style>\n",
              "\n",
              "    <script>\n",
              "      const buttonEl =\n",
              "        document.querySelector('#df-5ff4cd38-73ab-4d57-b107-8a8da3454084 button.colab-df-convert');\n",
              "      buttonEl.style.display =\n",
              "        google.colab.kernel.accessAllowed ? 'block' : 'none';\n",
              "\n",
              "      async function convertToInteractive(key) {\n",
              "        const element = document.querySelector('#df-5ff4cd38-73ab-4d57-b107-8a8da3454084');\n",
              "        const dataTable =\n",
              "          await google.colab.kernel.invokeFunction('convertToInteractive',\n",
              "                                                    [key], {});\n",
              "        if (!dataTable) return;\n",
              "\n",
              "        const docLinkHtml = 'Like what you see? Visit the ' +\n",
              "          '<a target=\"_blank\" href=https://colab.research.google.com/notebooks/data_table.ipynb>data table notebook</a>'\n",
              "          + ' to learn more about interactive tables.';\n",
              "        element.innerHTML = '';\n",
              "        dataTable['output_type'] = 'display_data';\n",
              "        await google.colab.output.renderOutput(dataTable, element);\n",
              "        const docLink = document.createElement('div');\n",
              "        docLink.innerHTML = docLinkHtml;\n",
              "        element.appendChild(docLink);\n",
              "      }\n",
              "    </script>\n",
              "  </div>\n",
              "\n",
              "\n",
              "<div id=\"df-3ca9bdf5-e676-4fcf-a596-2ff7e855e172\">\n",
              "  <button class=\"colab-df-quickchart\" onclick=\"quickchart('df-3ca9bdf5-e676-4fcf-a596-2ff7e855e172')\"\n",
              "            title=\"Suggest charts.\"\n",
              "            style=\"display:none;\">\n",
              "\n",
              "<svg xmlns=\"http://www.w3.org/2000/svg\" height=\"24px\"viewBox=\"0 0 24 24\"\n",
              "     width=\"24px\">\n",
              "    <g>\n",
              "        <path d=\"M19 3H5c-1.1 0-2 .9-2 2v14c0 1.1.9 2 2 2h14c1.1 0 2-.9 2-2V5c0-1.1-.9-2-2-2zM9 17H7v-7h2v7zm4 0h-2V7h2v10zm4 0h-2v-4h2v4z\"/>\n",
              "    </g>\n",
              "</svg>\n",
              "  </button>\n",
              "\n",
              "<style>\n",
              "  .colab-df-quickchart {\n",
              "      --bg-color: #E8F0FE;\n",
              "      --fill-color: #1967D2;\n",
              "      --hover-bg-color: #E2EBFA;\n",
              "      --hover-fill-color: #174EA6;\n",
              "      --disabled-fill-color: #AAA;\n",
              "      --disabled-bg-color: #DDD;\n",
              "  }\n",
              "\n",
              "  [theme=dark] .colab-df-quickchart {\n",
              "      --bg-color: #3B4455;\n",
              "      --fill-color: #D2E3FC;\n",
              "      --hover-bg-color: #434B5C;\n",
              "      --hover-fill-color: #FFFFFF;\n",
              "      --disabled-bg-color: #3B4455;\n",
              "      --disabled-fill-color: #666;\n",
              "  }\n",
              "\n",
              "  .colab-df-quickchart {\n",
              "    background-color: var(--bg-color);\n",
              "    border: none;\n",
              "    border-radius: 50%;\n",
              "    cursor: pointer;\n",
              "    display: none;\n",
              "    fill: var(--fill-color);\n",
              "    height: 32px;\n",
              "    padding: 0;\n",
              "    width: 32px;\n",
              "  }\n",
              "\n",
              "  .colab-df-quickchart:hover {\n",
              "    background-color: var(--hover-bg-color);\n",
              "    box-shadow: 0 1px 2px rgba(60, 64, 67, 0.3), 0 1px 3px 1px rgba(60, 64, 67, 0.15);\n",
              "    fill: var(--button-hover-fill-color);\n",
              "  }\n",
              "\n",
              "  .colab-df-quickchart-complete:disabled,\n",
              "  .colab-df-quickchart-complete:disabled:hover {\n",
              "    background-color: var(--disabled-bg-color);\n",
              "    fill: var(--disabled-fill-color);\n",
              "    box-shadow: none;\n",
              "  }\n",
              "\n",
              "  .colab-df-spinner {\n",
              "    border: 2px solid var(--fill-color);\n",
              "    border-color: transparent;\n",
              "    border-bottom-color: var(--fill-color);\n",
              "    animation:\n",
              "      spin 1s steps(1) infinite;\n",
              "  }\n",
              "\n",
              "  @keyframes spin {\n",
              "    0% {\n",
              "      border-color: transparent;\n",
              "      border-bottom-color: var(--fill-color);\n",
              "      border-left-color: var(--fill-color);\n",
              "    }\n",
              "    20% {\n",
              "      border-color: transparent;\n",
              "      border-left-color: var(--fill-color);\n",
              "      border-top-color: var(--fill-color);\n",
              "    }\n",
              "    30% {\n",
              "      border-color: transparent;\n",
              "      border-left-color: var(--fill-color);\n",
              "      border-top-color: var(--fill-color);\n",
              "      border-right-color: var(--fill-color);\n",
              "    }\n",
              "    40% {\n",
              "      border-color: transparent;\n",
              "      border-right-color: var(--fill-color);\n",
              "      border-top-color: var(--fill-color);\n",
              "    }\n",
              "    60% {\n",
              "      border-color: transparent;\n",
              "      border-right-color: var(--fill-color);\n",
              "    }\n",
              "    80% {\n",
              "      border-color: transparent;\n",
              "      border-right-color: var(--fill-color);\n",
              "      border-bottom-color: var(--fill-color);\n",
              "    }\n",
              "    90% {\n",
              "      border-color: transparent;\n",
              "      border-bottom-color: var(--fill-color);\n",
              "    }\n",
              "  }\n",
              "</style>\n",
              "\n",
              "  <script>\n",
              "    async function quickchart(key) {\n",
              "      const quickchartButtonEl =\n",
              "        document.querySelector('#' + key + ' button');\n",
              "      quickchartButtonEl.disabled = true;  // To prevent multiple clicks.\n",
              "      quickchartButtonEl.classList.add('colab-df-spinner');\n",
              "      try {\n",
              "        const charts = await google.colab.kernel.invokeFunction(\n",
              "            'suggestCharts', [key], {});\n",
              "      } catch (error) {\n",
              "        console.error('Error during call to suggestCharts:', error);\n",
              "      }\n",
              "      quickchartButtonEl.classList.remove('colab-df-spinner');\n",
              "      quickchartButtonEl.classList.add('colab-df-quickchart-complete');\n",
              "    }\n",
              "    (() => {\n",
              "      let quickchartButtonEl =\n",
              "        document.querySelector('#df-3ca9bdf5-e676-4fcf-a596-2ff7e855e172 button');\n",
              "      quickchartButtonEl.style.display =\n",
              "        google.colab.kernel.accessAllowed ? 'block' : 'none';\n",
              "    })();\n",
              "  </script>\n",
              "</div>\n",
              "    </div>\n",
              "  </div>\n"
            ]
          },
          "metadata": {},
          "execution_count": 6
        }
      ]
    },
    {
      "cell_type": "markdown",
      "source": [
        "Dividimos el conjunto de datos. Lo hacemos especificando el parámetro random_state a 42 para que se aleatorizen los datos y el resultado sea reproducible.\n"
      ],
      "metadata": {
        "id": "okpSS5Nzj54Z"
      }
    },
    {
      "cell_type": "code",
      "source": [
        "# Dividir los datos originales en conjuntos de entrenamiento (70%) y test (30%)\n",
        "X_train, X_test, y_train, y_test = train_test_split(X, y, test_size=0.3, random_state=42)\n",
        "\n",
        "# Dividir el conjunto de prueba en conjuntos de validación (15%) y test (15%)\n",
        "X_validation, X_test, y_validation, y_test = train_test_split(X_test, y_test, test_size=0.5, random_state=42)\n",
        "\n",
        "X_validation"
      ],
      "metadata": {
        "id": "lRxgG08Zj5L7",
        "colab": {
          "base_uri": "https://localhost:8080/",
          "height": 424
        },
        "outputId": "181f38fb-9b2f-48b4-9ab4-f6dea4807a2d"
      },
      "execution_count": 7,
      "outputs": [
        {
          "output_type": "execute_result",
          "data": {
            "text/plain": [
              "            AT       AP      AH    AFDP    GTEP     TIT     TAT     CDP  \\\n",
              "9060   17.1960   995.96  83.276  4.1779  20.454  1057.9  549.36  10.587   \n",
              "33780  29.7170  1010.30  57.389  4.4296  30.199  1099.9  544.72  13.204   \n",
              "7555   13.1260   999.57  84.483  4.1593  24.254  1084.3  550.15  11.873   \n",
              "36051  20.5170  1017.70  64.559  4.2873  30.931  1100.0  540.34  13.515   \n",
              "8023    8.9965  1025.00  83.895  5.7124  32.828  1100.1  529.53  13.879   \n",
              "...        ...      ...     ...     ...     ...     ...     ...     ...   \n",
              "27760  17.4740  1019.90  89.325  3.9248  22.169  1065.0  550.01  11.197   \n",
              "13160  23.6420  1013.50  83.250  4.4636  25.764  1092.3  550.01  12.127   \n",
              "15718   4.8652  1013.60  91.351  2.9773  23.396  1081.9  550.03  11.720   \n",
              "10968  29.9860  1009.30  57.941  4.2750  26.176  1092.9  549.64  12.216   \n",
              "34995  21.8260  1022.10  63.762  2.9010  17.920  1040.0  549.52  10.087   \n",
              "\n",
              "           CO     NOX  \n",
              "9060   3.0602  73.598  \n",
              "33780  0.9261  53.272  \n",
              "7555   1.6692  74.223  \n",
              "36051  1.7370  51.516  \n",
              "8023   0.4909  63.462  \n",
              "...       ...     ...  \n",
              "27760  3.1294  61.156  \n",
              "13160  1.5099  64.478  \n",
              "15718  1.6524  83.076  \n",
              "10968  1.5581  62.199  \n",
              "34995  6.5645  56.841  \n",
              "\n",
              "[5510 rows x 10 columns]"
            ],
            "text/html": [
              "\n",
              "  <div id=\"df-53c34669-83fc-4a85-83c2-06a04df91d6d\" class=\"colab-df-container\">\n",
              "    <div>\n",
              "<style scoped>\n",
              "    .dataframe tbody tr th:only-of-type {\n",
              "        vertical-align: middle;\n",
              "    }\n",
              "\n",
              "    .dataframe tbody tr th {\n",
              "        vertical-align: top;\n",
              "    }\n",
              "\n",
              "    .dataframe thead th {\n",
              "        text-align: right;\n",
              "    }\n",
              "</style>\n",
              "<table border=\"1\" class=\"dataframe\">\n",
              "  <thead>\n",
              "    <tr style=\"text-align: right;\">\n",
              "      <th></th>\n",
              "      <th>AT</th>\n",
              "      <th>AP</th>\n",
              "      <th>AH</th>\n",
              "      <th>AFDP</th>\n",
              "      <th>GTEP</th>\n",
              "      <th>TIT</th>\n",
              "      <th>TAT</th>\n",
              "      <th>CDP</th>\n",
              "      <th>CO</th>\n",
              "      <th>NOX</th>\n",
              "    </tr>\n",
              "  </thead>\n",
              "  <tbody>\n",
              "    <tr>\n",
              "      <th>9060</th>\n",
              "      <td>17.1960</td>\n",
              "      <td>995.96</td>\n",
              "      <td>83.276</td>\n",
              "      <td>4.1779</td>\n",
              "      <td>20.454</td>\n",
              "      <td>1057.9</td>\n",
              "      <td>549.36</td>\n",
              "      <td>10.587</td>\n",
              "      <td>3.0602</td>\n",
              "      <td>73.598</td>\n",
              "    </tr>\n",
              "    <tr>\n",
              "      <th>33780</th>\n",
              "      <td>29.7170</td>\n",
              "      <td>1010.30</td>\n",
              "      <td>57.389</td>\n",
              "      <td>4.4296</td>\n",
              "      <td>30.199</td>\n",
              "      <td>1099.9</td>\n",
              "      <td>544.72</td>\n",
              "      <td>13.204</td>\n",
              "      <td>0.9261</td>\n",
              "      <td>53.272</td>\n",
              "    </tr>\n",
              "    <tr>\n",
              "      <th>7555</th>\n",
              "      <td>13.1260</td>\n",
              "      <td>999.57</td>\n",
              "      <td>84.483</td>\n",
              "      <td>4.1593</td>\n",
              "      <td>24.254</td>\n",
              "      <td>1084.3</td>\n",
              "      <td>550.15</td>\n",
              "      <td>11.873</td>\n",
              "      <td>1.6692</td>\n",
              "      <td>74.223</td>\n",
              "    </tr>\n",
              "    <tr>\n",
              "      <th>36051</th>\n",
              "      <td>20.5170</td>\n",
              "      <td>1017.70</td>\n",
              "      <td>64.559</td>\n",
              "      <td>4.2873</td>\n",
              "      <td>30.931</td>\n",
              "      <td>1100.0</td>\n",
              "      <td>540.34</td>\n",
              "      <td>13.515</td>\n",
              "      <td>1.7370</td>\n",
              "      <td>51.516</td>\n",
              "    </tr>\n",
              "    <tr>\n",
              "      <th>8023</th>\n",
              "      <td>8.9965</td>\n",
              "      <td>1025.00</td>\n",
              "      <td>83.895</td>\n",
              "      <td>5.7124</td>\n",
              "      <td>32.828</td>\n",
              "      <td>1100.1</td>\n",
              "      <td>529.53</td>\n",
              "      <td>13.879</td>\n",
              "      <td>0.4909</td>\n",
              "      <td>63.462</td>\n",
              "    </tr>\n",
              "    <tr>\n",
              "      <th>...</th>\n",
              "      <td>...</td>\n",
              "      <td>...</td>\n",
              "      <td>...</td>\n",
              "      <td>...</td>\n",
              "      <td>...</td>\n",
              "      <td>...</td>\n",
              "      <td>...</td>\n",
              "      <td>...</td>\n",
              "      <td>...</td>\n",
              "      <td>...</td>\n",
              "    </tr>\n",
              "    <tr>\n",
              "      <th>27760</th>\n",
              "      <td>17.4740</td>\n",
              "      <td>1019.90</td>\n",
              "      <td>89.325</td>\n",
              "      <td>3.9248</td>\n",
              "      <td>22.169</td>\n",
              "      <td>1065.0</td>\n",
              "      <td>550.01</td>\n",
              "      <td>11.197</td>\n",
              "      <td>3.1294</td>\n",
              "      <td>61.156</td>\n",
              "    </tr>\n",
              "    <tr>\n",
              "      <th>13160</th>\n",
              "      <td>23.6420</td>\n",
              "      <td>1013.50</td>\n",
              "      <td>83.250</td>\n",
              "      <td>4.4636</td>\n",
              "      <td>25.764</td>\n",
              "      <td>1092.3</td>\n",
              "      <td>550.01</td>\n",
              "      <td>12.127</td>\n",
              "      <td>1.5099</td>\n",
              "      <td>64.478</td>\n",
              "    </tr>\n",
              "    <tr>\n",
              "      <th>15718</th>\n",
              "      <td>4.8652</td>\n",
              "      <td>1013.60</td>\n",
              "      <td>91.351</td>\n",
              "      <td>2.9773</td>\n",
              "      <td>23.396</td>\n",
              "      <td>1081.9</td>\n",
              "      <td>550.03</td>\n",
              "      <td>11.720</td>\n",
              "      <td>1.6524</td>\n",
              "      <td>83.076</td>\n",
              "    </tr>\n",
              "    <tr>\n",
              "      <th>10968</th>\n",
              "      <td>29.9860</td>\n",
              "      <td>1009.30</td>\n",
              "      <td>57.941</td>\n",
              "      <td>4.2750</td>\n",
              "      <td>26.176</td>\n",
              "      <td>1092.9</td>\n",
              "      <td>549.64</td>\n",
              "      <td>12.216</td>\n",
              "      <td>1.5581</td>\n",
              "      <td>62.199</td>\n",
              "    </tr>\n",
              "    <tr>\n",
              "      <th>34995</th>\n",
              "      <td>21.8260</td>\n",
              "      <td>1022.10</td>\n",
              "      <td>63.762</td>\n",
              "      <td>2.9010</td>\n",
              "      <td>17.920</td>\n",
              "      <td>1040.0</td>\n",
              "      <td>549.52</td>\n",
              "      <td>10.087</td>\n",
              "      <td>6.5645</td>\n",
              "      <td>56.841</td>\n",
              "    </tr>\n",
              "  </tbody>\n",
              "</table>\n",
              "<p>5510 rows × 10 columns</p>\n",
              "</div>\n",
              "    <div class=\"colab-df-buttons\">\n",
              "\n",
              "  <div class=\"colab-df-container\">\n",
              "    <button class=\"colab-df-convert\" onclick=\"convertToInteractive('df-53c34669-83fc-4a85-83c2-06a04df91d6d')\"\n",
              "            title=\"Convert this dataframe to an interactive table.\"\n",
              "            style=\"display:none;\">\n",
              "\n",
              "  <svg xmlns=\"http://www.w3.org/2000/svg\" height=\"24px\" viewBox=\"0 -960 960 960\">\n",
              "    <path d=\"M120-120v-720h720v720H120Zm60-500h600v-160H180v160Zm220 220h160v-160H400v160Zm0 220h160v-160H400v160ZM180-400h160v-160H180v160Zm440 0h160v-160H620v160ZM180-180h160v-160H180v160Zm440 0h160v-160H620v160Z\"/>\n",
              "  </svg>\n",
              "    </button>\n",
              "\n",
              "  <style>\n",
              "    .colab-df-container {\n",
              "      display:flex;\n",
              "      gap: 12px;\n",
              "    }\n",
              "\n",
              "    .colab-df-convert {\n",
              "      background-color: #E8F0FE;\n",
              "      border: none;\n",
              "      border-radius: 50%;\n",
              "      cursor: pointer;\n",
              "      display: none;\n",
              "      fill: #1967D2;\n",
              "      height: 32px;\n",
              "      padding: 0 0 0 0;\n",
              "      width: 32px;\n",
              "    }\n",
              "\n",
              "    .colab-df-convert:hover {\n",
              "      background-color: #E2EBFA;\n",
              "      box-shadow: 0px 1px 2px rgba(60, 64, 67, 0.3), 0px 1px 3px 1px rgba(60, 64, 67, 0.15);\n",
              "      fill: #174EA6;\n",
              "    }\n",
              "\n",
              "    .colab-df-buttons div {\n",
              "      margin-bottom: 4px;\n",
              "    }\n",
              "\n",
              "    [theme=dark] .colab-df-convert {\n",
              "      background-color: #3B4455;\n",
              "      fill: #D2E3FC;\n",
              "    }\n",
              "\n",
              "    [theme=dark] .colab-df-convert:hover {\n",
              "      background-color: #434B5C;\n",
              "      box-shadow: 0px 1px 3px 1px rgba(0, 0, 0, 0.15);\n",
              "      filter: drop-shadow(0px 1px 2px rgba(0, 0, 0, 0.3));\n",
              "      fill: #FFFFFF;\n",
              "    }\n",
              "  </style>\n",
              "\n",
              "    <script>\n",
              "      const buttonEl =\n",
              "        document.querySelector('#df-53c34669-83fc-4a85-83c2-06a04df91d6d button.colab-df-convert');\n",
              "      buttonEl.style.display =\n",
              "        google.colab.kernel.accessAllowed ? 'block' : 'none';\n",
              "\n",
              "      async function convertToInteractive(key) {\n",
              "        const element = document.querySelector('#df-53c34669-83fc-4a85-83c2-06a04df91d6d');\n",
              "        const dataTable =\n",
              "          await google.colab.kernel.invokeFunction('convertToInteractive',\n",
              "                                                    [key], {});\n",
              "        if (!dataTable) return;\n",
              "\n",
              "        const docLinkHtml = 'Like what you see? Visit the ' +\n",
              "          '<a target=\"_blank\" href=https://colab.research.google.com/notebooks/data_table.ipynb>data table notebook</a>'\n",
              "          + ' to learn more about interactive tables.';\n",
              "        element.innerHTML = '';\n",
              "        dataTable['output_type'] = 'display_data';\n",
              "        await google.colab.output.renderOutput(dataTable, element);\n",
              "        const docLink = document.createElement('div');\n",
              "        docLink.innerHTML = docLinkHtml;\n",
              "        element.appendChild(docLink);\n",
              "      }\n",
              "    </script>\n",
              "  </div>\n",
              "\n",
              "\n",
              "<div id=\"df-e56dfcd5-5fc8-43f6-93f0-f374d41ec033\">\n",
              "  <button class=\"colab-df-quickchart\" onclick=\"quickchart('df-e56dfcd5-5fc8-43f6-93f0-f374d41ec033')\"\n",
              "            title=\"Suggest charts.\"\n",
              "            style=\"display:none;\">\n",
              "\n",
              "<svg xmlns=\"http://www.w3.org/2000/svg\" height=\"24px\"viewBox=\"0 0 24 24\"\n",
              "     width=\"24px\">\n",
              "    <g>\n",
              "        <path d=\"M19 3H5c-1.1 0-2 .9-2 2v14c0 1.1.9 2 2 2h14c1.1 0 2-.9 2-2V5c0-1.1-.9-2-2-2zM9 17H7v-7h2v7zm4 0h-2V7h2v10zm4 0h-2v-4h2v4z\"/>\n",
              "    </g>\n",
              "</svg>\n",
              "  </button>\n",
              "\n",
              "<style>\n",
              "  .colab-df-quickchart {\n",
              "      --bg-color: #E8F0FE;\n",
              "      --fill-color: #1967D2;\n",
              "      --hover-bg-color: #E2EBFA;\n",
              "      --hover-fill-color: #174EA6;\n",
              "      --disabled-fill-color: #AAA;\n",
              "      --disabled-bg-color: #DDD;\n",
              "  }\n",
              "\n",
              "  [theme=dark] .colab-df-quickchart {\n",
              "      --bg-color: #3B4455;\n",
              "      --fill-color: #D2E3FC;\n",
              "      --hover-bg-color: #434B5C;\n",
              "      --hover-fill-color: #FFFFFF;\n",
              "      --disabled-bg-color: #3B4455;\n",
              "      --disabled-fill-color: #666;\n",
              "  }\n",
              "\n",
              "  .colab-df-quickchart {\n",
              "    background-color: var(--bg-color);\n",
              "    border: none;\n",
              "    border-radius: 50%;\n",
              "    cursor: pointer;\n",
              "    display: none;\n",
              "    fill: var(--fill-color);\n",
              "    height: 32px;\n",
              "    padding: 0;\n",
              "    width: 32px;\n",
              "  }\n",
              "\n",
              "  .colab-df-quickchart:hover {\n",
              "    background-color: var(--hover-bg-color);\n",
              "    box-shadow: 0 1px 2px rgba(60, 64, 67, 0.3), 0 1px 3px 1px rgba(60, 64, 67, 0.15);\n",
              "    fill: var(--button-hover-fill-color);\n",
              "  }\n",
              "\n",
              "  .colab-df-quickchart-complete:disabled,\n",
              "  .colab-df-quickchart-complete:disabled:hover {\n",
              "    background-color: var(--disabled-bg-color);\n",
              "    fill: var(--disabled-fill-color);\n",
              "    box-shadow: none;\n",
              "  }\n",
              "\n",
              "  .colab-df-spinner {\n",
              "    border: 2px solid var(--fill-color);\n",
              "    border-color: transparent;\n",
              "    border-bottom-color: var(--fill-color);\n",
              "    animation:\n",
              "      spin 1s steps(1) infinite;\n",
              "  }\n",
              "\n",
              "  @keyframes spin {\n",
              "    0% {\n",
              "      border-color: transparent;\n",
              "      border-bottom-color: var(--fill-color);\n",
              "      border-left-color: var(--fill-color);\n",
              "    }\n",
              "    20% {\n",
              "      border-color: transparent;\n",
              "      border-left-color: var(--fill-color);\n",
              "      border-top-color: var(--fill-color);\n",
              "    }\n",
              "    30% {\n",
              "      border-color: transparent;\n",
              "      border-left-color: var(--fill-color);\n",
              "      border-top-color: var(--fill-color);\n",
              "      border-right-color: var(--fill-color);\n",
              "    }\n",
              "    40% {\n",
              "      border-color: transparent;\n",
              "      border-right-color: var(--fill-color);\n",
              "      border-top-color: var(--fill-color);\n",
              "    }\n",
              "    60% {\n",
              "      border-color: transparent;\n",
              "      border-right-color: var(--fill-color);\n",
              "    }\n",
              "    80% {\n",
              "      border-color: transparent;\n",
              "      border-right-color: var(--fill-color);\n",
              "      border-bottom-color: var(--fill-color);\n",
              "    }\n",
              "    90% {\n",
              "      border-color: transparent;\n",
              "      border-bottom-color: var(--fill-color);\n",
              "    }\n",
              "  }\n",
              "</style>\n",
              "\n",
              "  <script>\n",
              "    async function quickchart(key) {\n",
              "      const quickchartButtonEl =\n",
              "        document.querySelector('#' + key + ' button');\n",
              "      quickchartButtonEl.disabled = true;  // To prevent multiple clicks.\n",
              "      quickchartButtonEl.classList.add('colab-df-spinner');\n",
              "      try {\n",
              "        const charts = await google.colab.kernel.invokeFunction(\n",
              "            'suggestCharts', [key], {});\n",
              "      } catch (error) {\n",
              "        console.error('Error during call to suggestCharts:', error);\n",
              "      }\n",
              "      quickchartButtonEl.classList.remove('colab-df-spinner');\n",
              "      quickchartButtonEl.classList.add('colab-df-quickchart-complete');\n",
              "    }\n",
              "    (() => {\n",
              "      let quickchartButtonEl =\n",
              "        document.querySelector('#df-e56dfcd5-5fc8-43f6-93f0-f374d41ec033 button');\n",
              "      quickchartButtonEl.style.display =\n",
              "        google.colab.kernel.accessAllowed ? 'block' : 'none';\n",
              "    })();\n",
              "  </script>\n",
              "</div>\n",
              "    </div>\n",
              "  </div>\n"
            ]
          },
          "metadata": {},
          "execution_count": 7
        }
      ]
    },
    {
      "cell_type": "markdown",
      "source": [
        "## 5. Preproceso\n",
        "Previamente a entrenar los modelos, debemos realizar una transformación de los datos para que puedan ser interpretados por el algoritmo de manera eficiente. Las tranformaciones de datos que realizamos son las siguientes:"
      ],
      "metadata": {
        "id": "Nh7BY9vsyJg2"
      }
    },
    {
      "cell_type": "markdown",
      "source": [
        "### 5.1 Normalización"
      ],
      "metadata": {
        "id": "nI1wNR0fyy2j"
      }
    },
    {
      "cell_type": "markdown",
      "source": [
        "Para que no se produzca information leakage, normalizamos todos los datos con el mínimo y máximo obtenido del conjunto de entrenamiento."
      ],
      "metadata": {
        "id": "oLXFmYnh0egp"
      }
    },
    {
      "cell_type": "code",
      "source": [
        "max_min = {}\n",
        "for columna in X_train:\n",
        "  min = X_train[columna].min()\n",
        "  max = X_train[columna].max()\n",
        "  # Guardamos el valor maximo y minimo de cada columna para después poder desnormalizar\n",
        "  max_min[columna] = {'min': min, 'max': max}\n",
        "  # Conjunto de entrenamiento\n",
        "  X_train[columna] = (X_train[columna] - min)/(max - min)\n",
        "  # Conjunto de validación\n",
        "  X_validation[columna] = (X_validation[columna] - min)/(max - min)\n",
        "  # Conjunto de test\n",
        "  X_test[columna] = (X_test[columna] - min)/(max - min)\n",
        "\n",
        "X_validation"
      ],
      "metadata": {
        "id": "cbyqklL9hkjh",
        "outputId": "08ca6815-b421-4def-8122-5da9d8b6f238",
        "colab": {
          "base_uri": "https://localhost:8080/",
          "height": 424
        }
      },
      "execution_count": 8,
      "outputs": [
        {
          "output_type": "execute_result",
          "data": {
            "text/plain": [
              "             AT        AP        AH      AFDP      GTEP       TIT       TAT  \\\n",
              "9060   0.557123  0.192850  0.771954  0.382350  0.119732  0.570430  0.968410   \n",
              "33780  0.854839  0.477656  0.423133  0.428386  0.543097  0.990010  0.851150   \n",
              "7555   0.460349  0.264548  0.788218  0.378948  0.284821  0.834166  0.988375   \n",
              "36051  0.636087  0.624628  0.519747  0.402359  0.574898  0.991009  0.740460   \n",
              "8023   0.362160  0.769613  0.780295  0.663009  0.657312  0.992008  0.467273   \n",
              "...         ...       ...       ...       ...       ...       ...       ...   \n",
              "27760  0.563733  0.668322  0.853462  0.336059  0.194239  0.641359  0.984837   \n",
              "13160  0.710392  0.541212  0.771603  0.434604  0.350421  0.914086  0.984837   \n",
              "15718  0.263929  0.543198  0.880762  0.162762  0.247545  0.810190  0.985342   \n",
              "10968  0.861235  0.457795  0.430571  0.400110  0.368320  0.920080  0.975486   \n",
              "34995  0.667212  0.712016  0.509008  0.148807  0.009645  0.391608  0.972454   \n",
              "\n",
              "            CDP        CO       NOX  \n",
              "9060   0.134681  0.069354  0.507345  \n",
              "33780  0.629987  0.020963  0.291123  \n",
              "7555   0.378076  0.037813  0.513994  \n",
              "36051  0.688849  0.039350  0.272443  \n",
              "8023   0.757741  0.011095  0.399521  \n",
              "...         ...       ...       ...  \n",
              "27760  0.250132  0.070923  0.374991  \n",
              "13160  0.426149  0.034201  0.410329  \n",
              "15718  0.349118  0.037432  0.608170  \n",
              "10968  0.442993  0.035294  0.386086  \n",
              "34995  0.040048  0.148814  0.329089  \n",
              "\n",
              "[5510 rows x 10 columns]"
            ],
            "text/html": [
              "\n",
              "  <div id=\"df-91ec8415-2230-42f8-badb-e684014bf55a\" class=\"colab-df-container\">\n",
              "    <div>\n",
              "<style scoped>\n",
              "    .dataframe tbody tr th:only-of-type {\n",
              "        vertical-align: middle;\n",
              "    }\n",
              "\n",
              "    .dataframe tbody tr th {\n",
              "        vertical-align: top;\n",
              "    }\n",
              "\n",
              "    .dataframe thead th {\n",
              "        text-align: right;\n",
              "    }\n",
              "</style>\n",
              "<table border=\"1\" class=\"dataframe\">\n",
              "  <thead>\n",
              "    <tr style=\"text-align: right;\">\n",
              "      <th></th>\n",
              "      <th>AT</th>\n",
              "      <th>AP</th>\n",
              "      <th>AH</th>\n",
              "      <th>AFDP</th>\n",
              "      <th>GTEP</th>\n",
              "      <th>TIT</th>\n",
              "      <th>TAT</th>\n",
              "      <th>CDP</th>\n",
              "      <th>CO</th>\n",
              "      <th>NOX</th>\n",
              "    </tr>\n",
              "  </thead>\n",
              "  <tbody>\n",
              "    <tr>\n",
              "      <th>9060</th>\n",
              "      <td>0.557123</td>\n",
              "      <td>0.192850</td>\n",
              "      <td>0.771954</td>\n",
              "      <td>0.382350</td>\n",
              "      <td>0.119732</td>\n",
              "      <td>0.570430</td>\n",
              "      <td>0.968410</td>\n",
              "      <td>0.134681</td>\n",
              "      <td>0.069354</td>\n",
              "      <td>0.507345</td>\n",
              "    </tr>\n",
              "    <tr>\n",
              "      <th>33780</th>\n",
              "      <td>0.854839</td>\n",
              "      <td>0.477656</td>\n",
              "      <td>0.423133</td>\n",
              "      <td>0.428386</td>\n",
              "      <td>0.543097</td>\n",
              "      <td>0.990010</td>\n",
              "      <td>0.851150</td>\n",
              "      <td>0.629987</td>\n",
              "      <td>0.020963</td>\n",
              "      <td>0.291123</td>\n",
              "    </tr>\n",
              "    <tr>\n",
              "      <th>7555</th>\n",
              "      <td>0.460349</td>\n",
              "      <td>0.264548</td>\n",
              "      <td>0.788218</td>\n",
              "      <td>0.378948</td>\n",
              "      <td>0.284821</td>\n",
              "      <td>0.834166</td>\n",
              "      <td>0.988375</td>\n",
              "      <td>0.378076</td>\n",
              "      <td>0.037813</td>\n",
              "      <td>0.513994</td>\n",
              "    </tr>\n",
              "    <tr>\n",
              "      <th>36051</th>\n",
              "      <td>0.636087</td>\n",
              "      <td>0.624628</td>\n",
              "      <td>0.519747</td>\n",
              "      <td>0.402359</td>\n",
              "      <td>0.574898</td>\n",
              "      <td>0.991009</td>\n",
              "      <td>0.740460</td>\n",
              "      <td>0.688849</td>\n",
              "      <td>0.039350</td>\n",
              "      <td>0.272443</td>\n",
              "    </tr>\n",
              "    <tr>\n",
              "      <th>8023</th>\n",
              "      <td>0.362160</td>\n",
              "      <td>0.769613</td>\n",
              "      <td>0.780295</td>\n",
              "      <td>0.663009</td>\n",
              "      <td>0.657312</td>\n",
              "      <td>0.992008</td>\n",
              "      <td>0.467273</td>\n",
              "      <td>0.757741</td>\n",
              "      <td>0.011095</td>\n",
              "      <td>0.399521</td>\n",
              "    </tr>\n",
              "    <tr>\n",
              "      <th>...</th>\n",
              "      <td>...</td>\n",
              "      <td>...</td>\n",
              "      <td>...</td>\n",
              "      <td>...</td>\n",
              "      <td>...</td>\n",
              "      <td>...</td>\n",
              "      <td>...</td>\n",
              "      <td>...</td>\n",
              "      <td>...</td>\n",
              "      <td>...</td>\n",
              "    </tr>\n",
              "    <tr>\n",
              "      <th>27760</th>\n",
              "      <td>0.563733</td>\n",
              "      <td>0.668322</td>\n",
              "      <td>0.853462</td>\n",
              "      <td>0.336059</td>\n",
              "      <td>0.194239</td>\n",
              "      <td>0.641359</td>\n",
              "      <td>0.984837</td>\n",
              "      <td>0.250132</td>\n",
              "      <td>0.070923</td>\n",
              "      <td>0.374991</td>\n",
              "    </tr>\n",
              "    <tr>\n",
              "      <th>13160</th>\n",
              "      <td>0.710392</td>\n",
              "      <td>0.541212</td>\n",
              "      <td>0.771603</td>\n",
              "      <td>0.434604</td>\n",
              "      <td>0.350421</td>\n",
              "      <td>0.914086</td>\n",
              "      <td>0.984837</td>\n",
              "      <td>0.426149</td>\n",
              "      <td>0.034201</td>\n",
              "      <td>0.410329</td>\n",
              "    </tr>\n",
              "    <tr>\n",
              "      <th>15718</th>\n",
              "      <td>0.263929</td>\n",
              "      <td>0.543198</td>\n",
              "      <td>0.880762</td>\n",
              "      <td>0.162762</td>\n",
              "      <td>0.247545</td>\n",
              "      <td>0.810190</td>\n",
              "      <td>0.985342</td>\n",
              "      <td>0.349118</td>\n",
              "      <td>0.037432</td>\n",
              "      <td>0.608170</td>\n",
              "    </tr>\n",
              "    <tr>\n",
              "      <th>10968</th>\n",
              "      <td>0.861235</td>\n",
              "      <td>0.457795</td>\n",
              "      <td>0.430571</td>\n",
              "      <td>0.400110</td>\n",
              "      <td>0.368320</td>\n",
              "      <td>0.920080</td>\n",
              "      <td>0.975486</td>\n",
              "      <td>0.442993</td>\n",
              "      <td>0.035294</td>\n",
              "      <td>0.386086</td>\n",
              "    </tr>\n",
              "    <tr>\n",
              "      <th>34995</th>\n",
              "      <td>0.667212</td>\n",
              "      <td>0.712016</td>\n",
              "      <td>0.509008</td>\n",
              "      <td>0.148807</td>\n",
              "      <td>0.009645</td>\n",
              "      <td>0.391608</td>\n",
              "      <td>0.972454</td>\n",
              "      <td>0.040048</td>\n",
              "      <td>0.148814</td>\n",
              "      <td>0.329089</td>\n",
              "    </tr>\n",
              "  </tbody>\n",
              "</table>\n",
              "<p>5510 rows × 10 columns</p>\n",
              "</div>\n",
              "    <div class=\"colab-df-buttons\">\n",
              "\n",
              "  <div class=\"colab-df-container\">\n",
              "    <button class=\"colab-df-convert\" onclick=\"convertToInteractive('df-91ec8415-2230-42f8-badb-e684014bf55a')\"\n",
              "            title=\"Convert this dataframe to an interactive table.\"\n",
              "            style=\"display:none;\">\n",
              "\n",
              "  <svg xmlns=\"http://www.w3.org/2000/svg\" height=\"24px\" viewBox=\"0 -960 960 960\">\n",
              "    <path d=\"M120-120v-720h720v720H120Zm60-500h600v-160H180v160Zm220 220h160v-160H400v160Zm0 220h160v-160H400v160ZM180-400h160v-160H180v160Zm440 0h160v-160H620v160ZM180-180h160v-160H180v160Zm440 0h160v-160H620v160Z\"/>\n",
              "  </svg>\n",
              "    </button>\n",
              "\n",
              "  <style>\n",
              "    .colab-df-container {\n",
              "      display:flex;\n",
              "      gap: 12px;\n",
              "    }\n",
              "\n",
              "    .colab-df-convert {\n",
              "      background-color: #E8F0FE;\n",
              "      border: none;\n",
              "      border-radius: 50%;\n",
              "      cursor: pointer;\n",
              "      display: none;\n",
              "      fill: #1967D2;\n",
              "      height: 32px;\n",
              "      padding: 0 0 0 0;\n",
              "      width: 32px;\n",
              "    }\n",
              "\n",
              "    .colab-df-convert:hover {\n",
              "      background-color: #E2EBFA;\n",
              "      box-shadow: 0px 1px 2px rgba(60, 64, 67, 0.3), 0px 1px 3px 1px rgba(60, 64, 67, 0.15);\n",
              "      fill: #174EA6;\n",
              "    }\n",
              "\n",
              "    .colab-df-buttons div {\n",
              "      margin-bottom: 4px;\n",
              "    }\n",
              "\n",
              "    [theme=dark] .colab-df-convert {\n",
              "      background-color: #3B4455;\n",
              "      fill: #D2E3FC;\n",
              "    }\n",
              "\n",
              "    [theme=dark] .colab-df-convert:hover {\n",
              "      background-color: #434B5C;\n",
              "      box-shadow: 0px 1px 3px 1px rgba(0, 0, 0, 0.15);\n",
              "      filter: drop-shadow(0px 1px 2px rgba(0, 0, 0, 0.3));\n",
              "      fill: #FFFFFF;\n",
              "    }\n",
              "  </style>\n",
              "\n",
              "    <script>\n",
              "      const buttonEl =\n",
              "        document.querySelector('#df-91ec8415-2230-42f8-badb-e684014bf55a button.colab-df-convert');\n",
              "      buttonEl.style.display =\n",
              "        google.colab.kernel.accessAllowed ? 'block' : 'none';\n",
              "\n",
              "      async function convertToInteractive(key) {\n",
              "        const element = document.querySelector('#df-91ec8415-2230-42f8-badb-e684014bf55a');\n",
              "        const dataTable =\n",
              "          await google.colab.kernel.invokeFunction('convertToInteractive',\n",
              "                                                    [key], {});\n",
              "        if (!dataTable) return;\n",
              "\n",
              "        const docLinkHtml = 'Like what you see? Visit the ' +\n",
              "          '<a target=\"_blank\" href=https://colab.research.google.com/notebooks/data_table.ipynb>data table notebook</a>'\n",
              "          + ' to learn more about interactive tables.';\n",
              "        element.innerHTML = '';\n",
              "        dataTable['output_type'] = 'display_data';\n",
              "        await google.colab.output.renderOutput(dataTable, element);\n",
              "        const docLink = document.createElement('div');\n",
              "        docLink.innerHTML = docLinkHtml;\n",
              "        element.appendChild(docLink);\n",
              "      }\n",
              "    </script>\n",
              "  </div>\n",
              "\n",
              "\n",
              "<div id=\"df-f3fd5188-3cfa-4df7-84e3-c29a24bf43c6\">\n",
              "  <button class=\"colab-df-quickchart\" onclick=\"quickchart('df-f3fd5188-3cfa-4df7-84e3-c29a24bf43c6')\"\n",
              "            title=\"Suggest charts.\"\n",
              "            style=\"display:none;\">\n",
              "\n",
              "<svg xmlns=\"http://www.w3.org/2000/svg\" height=\"24px\"viewBox=\"0 0 24 24\"\n",
              "     width=\"24px\">\n",
              "    <g>\n",
              "        <path d=\"M19 3H5c-1.1 0-2 .9-2 2v14c0 1.1.9 2 2 2h14c1.1 0 2-.9 2-2V5c0-1.1-.9-2-2-2zM9 17H7v-7h2v7zm4 0h-2V7h2v10zm4 0h-2v-4h2v4z\"/>\n",
              "    </g>\n",
              "</svg>\n",
              "  </button>\n",
              "\n",
              "<style>\n",
              "  .colab-df-quickchart {\n",
              "      --bg-color: #E8F0FE;\n",
              "      --fill-color: #1967D2;\n",
              "      --hover-bg-color: #E2EBFA;\n",
              "      --hover-fill-color: #174EA6;\n",
              "      --disabled-fill-color: #AAA;\n",
              "      --disabled-bg-color: #DDD;\n",
              "  }\n",
              "\n",
              "  [theme=dark] .colab-df-quickchart {\n",
              "      --bg-color: #3B4455;\n",
              "      --fill-color: #D2E3FC;\n",
              "      --hover-bg-color: #434B5C;\n",
              "      --hover-fill-color: #FFFFFF;\n",
              "      --disabled-bg-color: #3B4455;\n",
              "      --disabled-fill-color: #666;\n",
              "  }\n",
              "\n",
              "  .colab-df-quickchart {\n",
              "    background-color: var(--bg-color);\n",
              "    border: none;\n",
              "    border-radius: 50%;\n",
              "    cursor: pointer;\n",
              "    display: none;\n",
              "    fill: var(--fill-color);\n",
              "    height: 32px;\n",
              "    padding: 0;\n",
              "    width: 32px;\n",
              "  }\n",
              "\n",
              "  .colab-df-quickchart:hover {\n",
              "    background-color: var(--hover-bg-color);\n",
              "    box-shadow: 0 1px 2px rgba(60, 64, 67, 0.3), 0 1px 3px 1px rgba(60, 64, 67, 0.15);\n",
              "    fill: var(--button-hover-fill-color);\n",
              "  }\n",
              "\n",
              "  .colab-df-quickchart-complete:disabled,\n",
              "  .colab-df-quickchart-complete:disabled:hover {\n",
              "    background-color: var(--disabled-bg-color);\n",
              "    fill: var(--disabled-fill-color);\n",
              "    box-shadow: none;\n",
              "  }\n",
              "\n",
              "  .colab-df-spinner {\n",
              "    border: 2px solid var(--fill-color);\n",
              "    border-color: transparent;\n",
              "    border-bottom-color: var(--fill-color);\n",
              "    animation:\n",
              "      spin 1s steps(1) infinite;\n",
              "  }\n",
              "\n",
              "  @keyframes spin {\n",
              "    0% {\n",
              "      border-color: transparent;\n",
              "      border-bottom-color: var(--fill-color);\n",
              "      border-left-color: var(--fill-color);\n",
              "    }\n",
              "    20% {\n",
              "      border-color: transparent;\n",
              "      border-left-color: var(--fill-color);\n",
              "      border-top-color: var(--fill-color);\n",
              "    }\n",
              "    30% {\n",
              "      border-color: transparent;\n",
              "      border-left-color: var(--fill-color);\n",
              "      border-top-color: var(--fill-color);\n",
              "      border-right-color: var(--fill-color);\n",
              "    }\n",
              "    40% {\n",
              "      border-color: transparent;\n",
              "      border-right-color: var(--fill-color);\n",
              "      border-top-color: var(--fill-color);\n",
              "    }\n",
              "    60% {\n",
              "      border-color: transparent;\n",
              "      border-right-color: var(--fill-color);\n",
              "    }\n",
              "    80% {\n",
              "      border-color: transparent;\n",
              "      border-right-color: var(--fill-color);\n",
              "      border-bottom-color: var(--fill-color);\n",
              "    }\n",
              "    90% {\n",
              "      border-color: transparent;\n",
              "      border-bottom-color: var(--fill-color);\n",
              "    }\n",
              "  }\n",
              "</style>\n",
              "\n",
              "  <script>\n",
              "    async function quickchart(key) {\n",
              "      const quickchartButtonEl =\n",
              "        document.querySelector('#' + key + ' button');\n",
              "      quickchartButtonEl.disabled = true;  // To prevent multiple clicks.\n",
              "      quickchartButtonEl.classList.add('colab-df-spinner');\n",
              "      try {\n",
              "        const charts = await google.colab.kernel.invokeFunction(\n",
              "            'suggestCharts', [key], {});\n",
              "      } catch (error) {\n",
              "        console.error('Error during call to suggestCharts:', error);\n",
              "      }\n",
              "      quickchartButtonEl.classList.remove('colab-df-spinner');\n",
              "      quickchartButtonEl.classList.add('colab-df-quickchart-complete');\n",
              "    }\n",
              "    (() => {\n",
              "      let quickchartButtonEl =\n",
              "        document.querySelector('#df-f3fd5188-3cfa-4df7-84e3-c29a24bf43c6 button');\n",
              "      quickchartButtonEl.style.display =\n",
              "        google.colab.kernel.accessAllowed ? 'block' : 'none';\n",
              "    })();\n",
              "  </script>\n",
              "</div>\n",
              "    </div>\n",
              "  </div>\n"
            ]
          },
          "metadata": {},
          "execution_count": 8
        }
      ]
    },
    {
      "cell_type": "markdown",
      "source": [
        "### 5.2 Eliminación de atributos correlacionados\n",
        "\n",
        "¡¡GTEP Y CDP!!--> eliminar uno"
      ],
      "metadata": {
        "id": "mdIuXkiqrHPA"
      }
    },
    {
      "cell_type": "code",
      "source": [],
      "metadata": {
        "id": "CbCKSWUarGoc"
      },
      "execution_count": 8,
      "outputs": []
    },
    {
      "cell_type": "markdown",
      "source": [
        "## 6. Implementación del modelo lineal Adaline"
      ],
      "metadata": {
        "id": "GtpQaB4wj562"
      }
    },
    {
      "cell_type": "markdown",
      "source": [
        "### 6.1 Adaline implementado con nested loops (ineficiente)"
      ],
      "metadata": {
        "id": "i8f52AWcsV5y"
      }
    },
    {
      "cell_type": "code",
      "source": [
        "class Adaline_for:\n",
        "    def __init__(self, learning_rate=0.1, epochs=50, random_seed = 45):\n",
        "        self.learning_rate = learning_rate\n",
        "        self.epochs = epochs\n",
        "        self.weights = None\n",
        "        self.bias = None\n",
        "        self.random_seed = random_seed\n",
        "        self.error_entrenamiento = []\n",
        "        self.historical_weights = []\n",
        "\n",
        "    def fit(self, X, y):\n",
        "      # Inicializamos el Adaline\n",
        "        self.__initialize_Adaline(X)\n",
        "\n",
        "        # Para cada época\n",
        "        for i in range(self.epochs):\n",
        "          error_filas = []\n",
        "          # Para cada fila\n",
        "          for fila in range(X.shape[0]):\n",
        "            # Calculamos la salida\n",
        "            salida = self.weights * X.loc[fila]\n",
        "            salida = salida.sum() + self.bias\n",
        "            # Obtenemos el error\n",
        "            error = y.loc[fila] - salida\n",
        "            error_filas.append(error**2) # Insertamos el error al cuadrado de cada fila para luego obtener el MSE de entrenamiento\n",
        "            # Actualizamos los pesos\n",
        "            self.weights += self.learning_rate * error * X.loc[fila]\n",
        "            # Actualizamos el umbral\n",
        "            self.bias += self.learning_rate * error\n",
        "          # Obtenemos el MSE y lo insertamos en la lista del error de entrenamiento\n",
        "          self.error_entrenamiento.append(np.array(error_filas).mean())\n",
        "\n",
        "    def __initialize_Adaline(self,X):\n",
        "        np.random.seed(self.random_seed)\n",
        "        n_samples, n_features = X.shape\n",
        "        self.weights = np.random.uniform(-1,1,size = n_features)\n",
        "        self.bias = np.random.uniform(-1,1)"
      ],
      "metadata": {
        "id": "hrRu3mVPactH"
      },
      "execution_count": 9,
      "outputs": []
    },
    {
      "cell_type": "markdown",
      "source": [],
      "metadata": {
        "id": "olBUNeat2IK5"
      }
    },
    {
      "cell_type": "code",
      "source": [
        "# Leemos el conjunto de datos de aulaglobal\n",
        "datos_prueba = pd.read_csv(\"datosArtificiales.txt\", delimiter=' ', header=None)\n",
        "# Dividimos los datos en atributos (X) y salida (y)\n",
        "X_prueba = datos_prueba.iloc[:,:2]\n",
        "y_prueba = datos_prueba.iloc[:,-1]\n",
        "# Entrenamos el modelo\n",
        "modelo_prueba_for = Adaline_for(learning_rate = 0.2, epochs=50)\n",
        "start_time = time.time()\n",
        "modelo_prueba_for.fit(X_prueba,y_prueba)\n",
        "tiempo_total = time.time() - start_time\n",
        "print(modelo_prueba_for.error_entrenamiento)\n",
        "print(\"Tiempo de entrenamiento: \", tiempo_total)"
      ],
      "metadata": {
        "colab": {
          "base_uri": "https://localhost:8080/"
        },
        "id": "9zVqUKMPaptG",
        "outputId": "2e9ea9eb-688f-4a7b-bdbf-c5b7bc7ca864"
      },
      "execution_count": 10,
      "outputs": [
        {
          "output_type": "stream",
          "name": "stdout",
          "text": [
            "[0.012930857011201457, 4.031366008854029e-12, 5.26772923183667e-21, 1.5193705242473636e-29, 7.741157544551898e-30, 7.741157544551898e-30, 7.741157544551898e-30, 7.741157544551898e-30, 7.741157544551898e-30, 7.741157544551898e-30, 7.741157544551898e-30, 7.741157544551898e-30, 7.741157544551898e-30, 7.741157544551898e-30, 7.741157544551898e-30, 7.741157544551898e-30, 7.741157544551898e-30, 7.741157544551898e-30, 7.741157544551898e-30, 7.741157544551898e-30, 7.741157544551898e-30, 7.741157544551898e-30, 7.741157544551898e-30, 7.741157544551898e-30, 7.741157544551898e-30, 7.741157544551898e-30, 7.741157544551898e-30, 7.741157544551898e-30, 7.741157544551898e-30, 7.741157544551898e-30, 7.741157544551898e-30, 7.741157544551898e-30, 7.741157544551898e-30, 7.741157544551898e-30, 7.741157544551898e-30, 7.741157544551898e-30, 7.741157544551898e-30, 7.741157544551898e-30, 7.741157544551898e-30, 7.741157544551898e-30, 7.741157544551898e-30, 7.741157544551898e-30, 7.741157544551898e-30, 7.741157544551898e-30, 7.741157544551898e-30, 7.741157544551898e-30, 7.741157544551898e-30, 7.741157544551898e-30, 7.741157544551898e-30, 7.741157544551898e-30]\n",
            "Tiempo de entrenamiento:  46.92385935783386\n"
          ]
        }
      ]
    },
    {
      "cell_type": "markdown",
      "source": [
        "Observamos que el tiempo de entrenamiento es extremadamente alto para ser un modelo simple y tener únicamente 50 épocas.\n",
        "\n",
        "Por tanto, decidimos implementar el modelo Adaline de una forma más eficiente. Para ello, utilizamos matrices (numpy arrays) en vez de utilizar un nested loop (complejidad exponencial)."
      ],
      "metadata": {
        "id": "e9j4cS56ew-9"
      }
    },
    {
      "cell_type": "markdown",
      "source": [
        "### 6.2 Adaline implementado con matrices (eficiente)\n",
        "\n"
      ],
      "metadata": {
        "id": "B0jZo_pusmku"
      }
    },
    {
      "cell_type": "code",
      "execution_count": 11,
      "metadata": {
        "id": "6ql0Bxcag3Zo"
      },
      "outputs": [],
      "source": [
        "class Adaline:\n",
        "    def __init__(self, learning_rate=0.1, epochs=100, random_seed = 45):\n",
        "        self.learning_rate = learning_rate\n",
        "        self.epochs = epochs\n",
        "        self.weights = None\n",
        "        self.umbral = None\n",
        "        self.random_seed = random_seed\n",
        "        self.error_entrenamiento = []\n",
        "\n",
        "    def __initialize_Adaline(self,X):\n",
        "        np.random.seed(self.random_seed)\n",
        "        n_samples, n_features = X.shape\n",
        "        self.weights = np.random.uniform(-1, 1, size=(n_features, 1))\n",
        "        self.umbral = np.random.uniform(-1,1)\n",
        "\n",
        "    def fit(self, X, y):\n",
        "        # Inicializamos el Adaline\n",
        "        self.__initialize_Adaline(X)\n",
        "        # Convertimos X e y a dos arrays de numpy\n",
        "        X = X.values\n",
        "        y = y.to_numpy().reshape(-1, 1)\n",
        "\n",
        "        for i in range(self.epochs):\n",
        "          # Obtenemos la salida\n",
        "          salida = np.dot(X, self.weights) + self.umbral\n",
        "\n",
        "          # Obtenemos los errores\n",
        "          errores = y - salida\n",
        "\n",
        "          # Actualizamos el vector de pesos\n",
        "          new_weights = self.learning_rate * X * errores # Calculamos los nuevos pesos para cada entrada\n",
        "          media_new_weights = np.mean(new_weights, axis=0) # Calculamos la media de los nuevos pesos\n",
        "          self.weights += media_new_weights.reshape(-1, 1)\n",
        "\n",
        "          # Actualizamos el umbral\n",
        "          self.umbral += self.learning_rate * errores.mean()\n",
        "\n",
        "          # Obtenemos y guardamos el MSE\n",
        "          error_entrenamiento = mean_squared_error(salida, y)\n",
        "          self.error_entrenamiento.append(error_entrenamiento)\n",
        "\n",
        "    def predict(self, X):\n",
        "      # Convertimos X a un array de numpy\n",
        "      X = X.values\n",
        "      salida = np.dot(X, self.weights) + self.umbral\n",
        "      return salida\n",
        "\n",
        ""
      ]
    },
    {
      "cell_type": "markdown",
      "source": [
        "A continuación, comprobamos nuestra implementación del Adaline utilizando los datos artificiales proporcionados en aulaglobal. Para ello, entrenaremos varios modelos con diferentes tasas de aprendizaje y analizaremos el error de entrenamiento."
      ],
      "metadata": {
        "id": "u2D2yXaU3109"
      }
    },
    {
      "cell_type": "code",
      "source": [
        "# Definimos las tasas de aprendizaje a probar\n",
        "learning_rates = [0.8, 0.1, 0.01, 0.001]\n",
        "epochs = 100\n",
        "\n",
        "# Representación gráfica de la evolución del error de entrenamiento\n",
        "fig, axs = plt.subplots(2, 2, figsize=(8, 6)) # Creamos un grid de 2x2 para las gráficas\n",
        "fig.subplots_adjust(hspace=0.4)\n",
        "\n",
        "tiempo_entrenamiento = []\n",
        "for i, lr in enumerate(learning_rates):\n",
        "    # Entrenamos el modelo con la tasa de aprendizaje actual\n",
        "    modelo_prueba = Adaline(learning_rate=lr, epochs=epochs)\n",
        "    start_time = time.time()\n",
        "    modelo_prueba.fit(X_prueba, y_prueba)\n",
        "    tiempo_total = time.time() - start_time\n",
        "    tiempo_entrenamiento.append(tiempo_total)\n",
        "    # Representamos gráficamente el error de entranamiento de cada modelo con diferente tasa de aprendizaje\n",
        "    ax = axs[i // 2, i % 2]\n",
        "    ax.plot(range(1, len(modelo_prueba.error_entrenamiento) + 1), modelo_prueba.error_entrenamiento)\n",
        "    ax.set_title(f'Learning Rate = {lr}')\n",
        "    ax.set_xlabel('Épocas')\n",
        "    ax.set_ylabel('Error de entrenamiento')\n",
        "    ax.grid()\n",
        "\n",
        "    print(modelo_prueba.error_entrenamiento)\n",
        "\n",
        "plt.show()\n",
        "\n",
        "# Imprimimos los tiempos de entrenamiento correspondientes a cada tasa de aprendizaje\n",
        "for lr, tiempo in zip(learning_rates, tiempo_entrenamiento):\n",
        "    print(f\"Tiempo de entrenamiento para learning rate {lr} = {tiempo} segundos\")"
      ],
      "metadata": {
        "id": "NjDe2E7_riwj",
        "outputId": "01c5c7c7-2c70-4e9c-e5da-cf507118f9e7",
        "colab": {
          "base_uri": "https://localhost:8080/",
          "height": 729
        }
      },
      "execution_count": 12,
      "outputs": [
        {
          "output_type": "stream",
          "name": "stdout",
          "text": [
            "[2.158244878581515, 0.28414215584736857, 0.18058598678638343, 0.15573155829155408, 0.1368033127400094, 0.12035943738142933, 0.10596763935799346, 0.09336136539818929, 0.08231327249439994, 0.0726256141723569, 0.06412618221633133, 0.05666496551607798, 0.050111255731325015, 0.04435113331555994, 0.03928528342232312, 0.034827098198229337, 0.030901027729016328, 0.027441146891559288, 0.02438990969081674, 0.021697066414137937, 0.019318722192147905, 0.017216518381333545, 0.015356920635561022, 0.013710599661569884, 0.012251892499961642, 0.010958333775584056, 0.00981024775182525, 0.008790393230207718, 0.007883654384131711, 0.007076771524756893, 0.006358106586132969, 0.005717438801671627, 0.005145786638667826, 0.004635252573778297, 0.0041788877405165206, 0.0037705738689211995, 0.003404920275402888, 0.0030771739541422738, 0.0027831410761778213, 0.002519118423577709, 0.0022818334782638682, 0.002068392051982347, 0.0018762324889243284, 0.0017030855984858722, 0.0015469395851194757, 0.0014060093373534437, 0.0012787095207243508, 0.0011636309912230727, 0.0010595201083185952, 0.0009652605809310567, 0.000879857526948234, 0.0008024234679484285, 0.0007321660165152069, 0.0006683770446070936, 0.0006104231484868752, 0.0005577372492493606, 0.0005098111884723233, 0.000466189196351517, 0.0004264621252133609, 0.00039026235482879796, 0.00035725928774007153, 0.00032715536308572504, 0.0002996825263650014, 0.00027459910039234205, 0.00025168700950460024, 0.00023074931502731433, 0.0002116080251942231, 0.00019410214724394474, 0.000178085953374302, 0.00016342743569200944, 0.00015000692831758402, 0.00013771587744829345, 0.00012645574249428297, 0.00011613701342702303, 0.0001066783312517135, 9.800570006828632e-05, 9.005178054702579e-05, 8.275525583893229e-05, 7.60602619888642e-05, 6.991587583966896e-05, 6.427565422403472e-05, 5.9097218951610965e-05, 5.4341882724296463e-05, 4.9974311663121525e-05, 4.596222061512924e-05, 4.227609783620028e-05, 3.8888956022953705e-05, 3.577610699986355e-05, 3.291495766194901e-05, 3.028482503356436e-05, 2.7866768534050832e-05, 2.5643437744918914e-05, 2.3598934153977446e-05, 2.171868551218227e-05, 1.9989331581347663e-05, 1.8398620177408284e-05, 1.6935312526451827e-05, 1.5589097050953956e-05, 1.4350510792914201e-05, 1.3210867760232992e-05]\n",
            "[2.158244878581515, 1.6166500938302524, 1.2251874210569453, 0.9419917132760941, 0.7368761862516306, 0.5880746500162686, 0.47989252091034984, 0.40101310254191525, 0.3432763431590611, 0.3007982683590145, 0.2693360550232554, 0.24583022289379425, 0.22807453540813744, 0.21447798427419368, 0.20389317028994589, 0.19549255864506562, 0.18867925373561517, 0.18302266399841025, 0.17821211349586646, 0.17402339386264004, 0.17029464679755374, 0.16690897427148688, 0.16378189970196502, 0.16085232687939605, 0.1580760209200532, 0.1554209077071606, 0.15286368453915686, 0.15038737621427165, 0.14797957281524488, 0.14563115902931992, 0.1433353978866397, 0.14108727005000887, 0.13888299736872328, 0.13671969929531616, 0.13459514510281964, 0.1325075751789811, 0.13045557212861145, 0.12843796779042163, 0.12645377615043593, 0.12450214492863293, 0.12258232063046537, 0.12069362330780842, 0.11883542832148711, 0.11700715315289834, 0.11520824785689328, 0.11343818814080094, 0.11169647033763885, 0.10998260774573047, 0.10829612795416661, 0.10663657087969947, 0.10500348731719643, 0.10339643786096935, 0.1018149920940878, 0.10025872797147808, 0.09872723134329765, 0.09722009557999352, 0.09573692127120821, 0.09427731597845432, 0.09284089402706942, 0.09142727632699815, 0.09003609021485344, 0.08866696931180772, 0.08731955339337587, 0.0859934882682428, 0.08468842566407381, 0.08340402311881445, 0.08213994387639438, 0.08089585678604554, 0.07967143620465754, 0.07846636190174706, 0.07728031896672843, 0.07611299771825346, 0.07496409361544559, 0.0738333071708959, 0.07272034386531853, 0.07162491406378502, 0.0705467329334732, 0.06948552036287757, 0.06844100088243672, 0.06741290358654002, 0.06640096205687927, 0.06540491428711571, 0.06442450260883441, 0.0634594736187605, 0.06250957810721317, 0.0615745709877739, 0.06065421122814768, 0.059748261782195146, 0.058856489523115514, 0.05797866517776005, 0.05711456326205639, 0.056263962017524795, 0.05542664334886737, 0.05460239276261209, 0.05379099930679344, 0.0529922555116521, 0.052205957331336275, 0.05143190408658765, 0.050669898408395246, 0.0499197461826006]\n",
            "[2.158244878581515, 2.1001339893925524, 2.0437528976349495, 1.9890498229253954, 1.935974535366371, 1.884478309118399, 1.8345138773625196, 1.786035388611381, 1.7389983643285425, 1.6933596578168342, 1.6490774143377607, 1.606111032425091, 1.5644211263568772, 1.5239694897512122, 1.4847190602520766, 1.446633885272631, 1.4096790887642987, 1.3738208389809097, 1.3390263172081192, 1.3052636874291947, 1.2725020668991276, 1.2407114975998796, 1.2098629185503693, 1.1799281389456133, 1.1508798121001873, 1.1226914101719256, 1.0953371996424963, 1.0687922175321856, 1.043032248326906, 1.018033801596107, 0.9937740902808913, 0.9702310096322749, 0.9473831167801208, 0.9252096109138588, 0.9036903140566774, 0.882805652415412, 0.8625366382888926, 0.8428648525180306, 0.8237724274614174, 0.805242030480705, 0.7872568479204997, 0.7698005695679617, 0.7528573735777492, 0.7364119118483672, 0.7204492958364107, 0.7049550827955836, 0.6899152624277792, 0.6753162439338793, 0.6611448434523062, 0.647388271873714, 0.6340341230205567, 0.6210703621806096, 0.608485314983841, 0.5962676566123564, 0.5844064013334402, 0.5728908923460212, 0.5617107919311732, 0.5508560718975526, 0.5403170043129353, 0.5300841525132908, 0.5201483623810791, 0.5105007538847122, 0.5011327128713562, 0.49203588310549196, 0.48320215854587223, 0.4746236758537377, 0.46629280712536764, 0.4582021528422469, 0.4503445350323335, 0.44271299063610525, 0.4353007650712542, 0.42810130599007856, 0.4211082572238052, 0.4143154529082425, 0.4077169117853348, 0.40130683167535164, 0.3950795841146014, 0.3890297091537138, 0.3831519103116826, 0.3774410496810043, 0.3718921431793889, 0.3665003559436539, 0.3612609978615427, 0.356169519237339, 0.35122150658727025, 0.3464126785608131, 0.3417388819841315, 0.3371960880219903, 0.33278038845459684, 0.328487992065928, 0.3243152211402063, 0.3202585080632846, 0.31631439202579986, 0.31247951582504707, 0.30875062276261794, 0.30512455363493723, 0.3015982438139143, 0.2981687204150111, 0.29483309955011033, 0.29158858366264334]\n",
            "[2.158244878581515, 2.152394275555481, 2.1465612078798357, 2.1407456227043666, 2.1349474673381925, 2.1291666892492875, 2.1234032360640014, 2.11765705556658, 2.1119280956986937, 2.106216304558957, 2.1005216304024605, 2.0948440216402964, 2.089183426839088, 2.0835397947205223, 2.077913074160882, 2.072303214190578, 2.066710163993687, 2.061133872907488, 2.055574290421996, 2.0500313661795095, 2.044505049974144, 2.0389952917513776, 2.0335020416075955, 2.028025249789632, 2.0225648666943203, 2.017120842868038, 2.0116931290062565, 2.006281675953094, 2.000886434700862, 1.995507356389624, 1.9901443923067477, 1.9847974938864603, 1.9794666127094078, 1.97415170050221, 1.9688527091370245, 1.9635695906311053, 1.9583022971463668, 1.9530507809889464, 1.9478149946087702, 1.942594890599119, 1.937390421696199, 1.9322015407787052, 1.927028200867398, 1.9218703551246699, 1.9167279568541231, 1.9116009595001386, 1.9064893166474568, 1.9013929820207502, 1.896311909484205, 1.8912460530410975, 1.8861953668333766, 1.8811598051412455, 1.8761393223827436, 1.8711338731133336, 1.8661434120254838, 1.8611678939482579, 1.8562072738469015, 1.8512615068224318, 1.8463305481112295, 1.841414353084629, 1.8365128772485118, 1.8316260762429029, 1.8267539058415632, 1.821896321951588, 1.8170532806130064, 1.8122247379983771, 1.807410650412392, 1.8026109742914764, 1.7978256662033916, 1.7930546828468399, 1.7882979810510682, 1.7835555177754774, 1.7788272501092268, 1.774113135270844, 1.7694131306078362, 1.764727193596299, 1.7600552818405308, 1.755397353072645, 1.7507533651521858, 1.7461232760657421, 1.741507043926567, 1.7369046269741926, 1.7323159835740534, 1.7277410722171043, 1.7231798515194412, 1.718632280221926, 1.7140983171898088, 1.7095779214123543, 1.7050710520024663, 1.7005776681963165, 1.6960977293529715, 1.6916311949540233, 1.687178024603219, 1.682738178026094, 1.6783116150696022, 1.6738982957017543, 1.669498180011247, 1.6651112282071043, 1.6607374006183124, 1.6563766576934578]\n"
          ]
        },
        {
          "output_type": "display_data",
          "data": {
            "text/plain": [
              "<Figure size 800x600 with 4 Axes>"
            ],
            "image/png": "[encoded data removed]"
          },
          "metadata": {}
        },
        {
          "output_type": "stream",
          "name": "stdout",
          "text": [
            "Tiempo de entrenamiento para learning rate 0.8 = 0.02494192123413086 segundos\n",
            "Tiempo de entrenamiento para learning rate 0.1 = 0.025681734085083008 segundos\n",
            "Tiempo de entrenamiento para learning rate 0.01 = 0.028720378875732422 segundos\n",
            "Tiempo de entrenamiento para learning rate 0.001 = 0.030504941940307617 segundos\n"
          ]
        }
      ]
    },
    {
      "cell_type": "markdown",
      "source": [
        "Podemos observar que el error cuadrático medio desciende en cada época, y se va aproximando a 0, por lo que el modelo está correctamente implementado."
      ],
      "metadata": {
        "id": "8Zepsfe-vN_g"
      }
    },
    {
      "cell_type": "code",
      "source": [],
      "metadata": {
        "id": "SNo-ZDF9EAA3"
      },
      "execution_count": 12,
      "outputs": []
    },
    {
      "cell_type": "markdown",
      "source": [
        "## 7. Elección de los mejores hiperparámetros en función del error de validación"
      ],
      "metadata": {
        "id": "1LfyfFJ0Uokv"
      }
    },
    {
      "cell_type": "code",
      "source": [
        "# Lista de tasas de aprendizaje a probar\n",
        "learning_rates = [0.4, 0.2, 0.1, 0.01]\n",
        "\n",
        "# Lista para almacenar los errores RMSE de validación\n",
        "mse_validation_values = []\n",
        "# Lista para almacenar los tiempos de entrenamiento\n",
        "tiempo_entrenamiento = []\n",
        "# Entrenar el modelo con diferentes tasas de aprendizaje y calcular el RMSE\n",
        "for lr in learning_rates:\n",
        "    modelo = Adaline(learning_rate=lr, epochs=5000)\n",
        "    start_time = time.time()\n",
        "    modelo.fit(X_train, y_train)\n",
        "    tiempo_total = time.time() - start_time\n",
        "    tiempo_entrenamiento.append(tiempo_total)\n",
        "    prediccion = modelo.predict(X_validation)\n",
        "    mse_validation = mean_squared_error(y_validation, prediccion)\n",
        "    mse_validation_values.append(mse_validation)\n",
        "\n",
        "# Creamos la gráfica\n",
        "plt.figure(figsize=(8, 6))\n",
        "plt.plot(learning_rates, mse_validation_values, marker='o', linestyle='-')\n",
        "plt.title('MSE en función del Learning Rate')\n",
        "plt.xlabel('Learning Rate')\n",
        "plt.ylabel('MSE de Validación')\n",
        "plt.grid(True)\n",
        "plt.show()\n",
        "\n",
        "print(\"Valores del error de validación: \",mse_validation_values)\n",
        "print(\"Tiempo de entrenamiento \",tiempo_entrenamiento)\n"
      ],
      "metadata": {
        "colab": {
          "base_uri": "https://localhost:8080/",
          "height": 601
        },
        "id": "4_jwdRNkYA57",
        "outputId": "9409709a-6b52-4b1b-fdb7-237b5e26fdab"
      },
      "execution_count": 13,
      "outputs": [
        {
          "output_type": "display_data",
          "data": {
            "text/plain": [
              "<Figure size 800x600 with 1 Axes>"
            ],
            "image/png": "[encoded data removed]"
          },
          "metadata": {}
        },
        {
          "output_type": "stream",
          "name": "stdout",
          "text": [
            "Valores del error de validación:  [0.999625784293894, 1.4747660260697961, 2.9631039081435695, 18.01345996652454]\n",
            "Tiempo de entrenamiento  [8.859067440032959, 10.736959218978882, 10.20389175415039, 10.7761070728302]\n"
          ]
        }
      ]
    },
    {
      "cell_type": "markdown",
      "source": [
        "learning_rate = 0.5 el error se dispara!!\n",
        "\n",
        "Learning_rate óptimo: 0.5\n",
        "\n",
        "Elegimos el mejor modelo y lo entrenamos con estos hiperparametros incluyendo el conjunto de validación en el conjunto de entrenamiento para probarlo con el conjunto de test."
      ],
      "metadata": {
        "id": "dgTyoe2TrY5L"
      }
    },
    {
      "cell_type": "markdown",
      "source": [
        "## 8. Predicción y error de test"
      ],
      "metadata": {
        "id": "0ALKC-h2R-q7"
      }
    },
    {
      "cell_type": "code",
      "source": [
        "# Juntamos el conjunto de entrenamiento y el conjunto de validación en un mismo dataframe\n",
        "X_train_validation = pd.concat([X_train, X_validation], ignore_index=True)\n",
        "y_train_validation = pd.concat([y_train, y_validation], ignore_index=True)\n",
        "\n",
        "# Entrenamos el modelo con los mejores hiperparámteros\n",
        "modelo_test = Adaline(learning_rate=0.4, epochs=5000)\n",
        "modelo_test.fit(X_train_validation, y_train_validation)\n",
        "\n",
        "# Predecimos los datos de test\n",
        "prediccion = modelo_test.predict(X_test)\n",
        "# Obtenemos el MSE\n",
        "mse_test = mean_squared_error(prediccion, y_test)\n",
        "\n",
        "print(mse_test)"
      ],
      "metadata": {
        "colab": {
          "base_uri": "https://localhost:8080/"
        },
        "id": "keC2WbdUSJ7T",
        "outputId": "68dbb2d4-c0e6-4dd9-9fed-8379f6b0e2a9"
      },
      "execution_count": 14,
      "outputs": [
        {
          "output_type": "stream",
          "name": "stdout",
          "text": [
            "1.0102952446181515\n"
          ]
        }
      ]
    },
    {
      "cell_type": "markdown",
      "source": [
        "## 9. Modelos de Keras"
      ],
      "metadata": {
        "id": "c2vd0-rtQsWl"
      }
    },
    {
      "cell_type": "code",
      "source": [
        "import tensorflow as tf\n",
        "\n",
        "#from keras.datasets import mnist\n",
        "from keras.models import Sequential\n",
        "from keras.layers import Dense"
      ],
      "metadata": {
        "id": "ThOOqXSKz2Cj"
      },
      "execution_count": 15,
      "outputs": []
    },
    {
      "cell_type": "markdown",
      "source": [
        "### 9.1 Adaline"
      ],
      "metadata": {
        "id": "NctEj_p_Q-Bt"
      }
    },
    {
      "cell_type": "markdown",
      "source": [
        "Creamos el modelo"
      ],
      "metadata": {
        "id": "UAUUrNxgRuQy"
      }
    },
    {
      "cell_type": "code",
      "source": [
        "input_shape=(X_train.shape [1],) # utilizamos los datos de entrenamiento para definir la tupla , en este caso sera (21,)\n",
        "\n",
        "#modelo lineal, solo para comparar con el programa desarrollado.\n",
        "def create_lineal(): # Una sola neurona lineal (Adaline)\n",
        "  model = Sequential()\n",
        "  model.add(Dense(1, input_shape=input_shape, activation='linear'))\n",
        "  return model\n",
        "\n",
        "model_adaline=create_lineal() # 1 capa salida LINEAL (ADALINE)\n"
      ],
      "metadata": {
        "id": "-YIlWEZsA3UH"
      },
      "execution_count": 16,
      "outputs": []
    },
    {
      "cell_type": "markdown",
      "source": [
        "Entrenamos el modelo"
      ],
      "metadata": {
        "id": "OC4iflecRy90"
      }
    },
    {
      "cell_type": "code",
      "source": [
        "# CONFIGURAR MODELO Y ENTRENAMIENTO\n",
        "lr = 0.2 # razon de aprendizaje\n",
        "epochs = 50 # numero de ciclos que se quiere realizar en el entrenamiento\n",
        "batch_size=32 # ¡¡¡¡¡¡ no cambiar este valor !!!!!!!!!!!!!!\n",
        "# Para poder ver la curva de validación hay que poner validation_freq=1. Tarda más\n",
        "model_adaline.compile(loss='mean_squared_error', optimizer=tf.keras.optimizers.SGD(learning_rate=lr, momentum=0), metrics=['mse'] )\n",
        "historico = model_adaline.fit(X_train, y_train, epochs=epochs, batch_size=batch_size, verbose=1, validation_data=(X_validation,y_validation),\n",
        "shuffle=False, validation_freq=1)\n",
        "\n",
        "# Calcula RMSE\n",
        "mse = historico.history['val_mse']  # Obtiene el MSE de la historia\n",
        "\n",
        "plt.plot(historico.history['loss'])\n",
        "plt.plot(historico.history['val_loss'])\n",
        "plt.title('model loss')\n",
        "plt.ylabel('loss')\n",
        "plt.xlabel('epoch')\n",
        "plt.legend(['train', 'val'], loc='upper right')\n",
        "plt.show()\n",
        "\n",
        "# Plotea el RMSE\n",
        "plt.plot(mse)\n",
        "plt.title('MSE en función de las épocas')\n",
        "plt.ylabel('MSE')\n",
        "plt.xlabel('época')\n",
        "plt.show()"
      ],
      "metadata": {
        "colab": {
          "base_uri": "https://localhost:8080/",
          "height": 1000
        },
        "id": "B8i-Py5KRzUW",
        "outputId": "8693767f-2ffa-4ebd-ac38-905f3366f2ff"
      },
      "execution_count": 18,
      "outputs": [
        {
          "output_type": "stream",
          "name": "stdout",
          "text": [
            "Epoch 1/50\n",
            "804/804 [==============================] - 3s 2ms/step - loss: 53.3215 - mse: 53.3215 - val_loss: 4.9923 - val_mse: 4.9923\n",
            "Epoch 2/50\n",
            "804/804 [==============================] - 2s 2ms/step - loss: 3.5542 - mse: 3.5542 - val_loss: 2.4222 - val_mse: 2.4222\n",
            "Epoch 3/50\n",
            "804/804 [==============================] - 2s 2ms/step - loss: 2.0143 - mse: 2.0143 - val_loss: 1.7283 - val_mse: 1.7283\n",
            "Epoch 4/50\n",
            "804/804 [==============================] - 2s 2ms/step - loss: 1.5138 - mse: 1.5138 - val_loss: 1.4707 - val_mse: 1.4707\n",
            "Epoch 5/50\n",
            "804/804 [==============================] - 2s 3ms/step - loss: 1.2983 - mse: 1.2983 - val_loss: 1.3586 - val_mse: 1.3586\n",
            "Epoch 6/50\n",
            "804/804 [==============================] - 2s 3ms/step - loss: 1.1923 - mse: 1.1923 - val_loss: 1.3062 - val_mse: 1.3062\n",
            "Epoch 7/50\n",
            "804/804 [==============================] - 2s 2ms/step - loss: 1.1367 - mse: 1.1367 - val_loss: 1.2804 - val_mse: 1.2804\n",
            "Epoch 8/50\n",
            "804/804 [==============================] - 2s 2ms/step - loss: 1.1061 - mse: 1.1061 - val_loss: 1.2664 - val_mse: 1.2664\n",
            "Epoch 9/50\n",
            "804/804 [==============================] - 2s 2ms/step - loss: 1.0882 - mse: 1.0882 - val_loss: 1.2576 - val_mse: 1.2576\n",
            "Epoch 10/50\n",
            "804/804 [==============================] - 2s 2ms/step - loss: 1.0772 - mse: 1.0772 - val_loss: 1.2510 - val_mse: 1.2510\n",
            "Epoch 11/50\n",
            "804/804 [==============================] - 2s 2ms/step - loss: 1.0698 - mse: 1.0698 - val_loss: 1.2455 - val_mse: 1.2455\n",
            "Epoch 12/50\n",
            "804/804 [==============================] - 2s 2ms/step - loss: 1.0645 - mse: 1.0645 - val_loss: 1.2404 - val_mse: 1.2404\n",
            "Epoch 13/50\n",
            "804/804 [==============================] - 2s 3ms/step - loss: 1.0605 - mse: 1.0605 - val_loss: 1.2357 - val_mse: 1.2357\n",
            "Epoch 14/50\n",
            "804/804 [==============================] - 2s 2ms/step - loss: 1.0573 - mse: 1.0573 - val_loss: 1.2311 - val_mse: 1.2311\n",
            "Epoch 15/50\n",
            "804/804 [==============================] - 2s 2ms/step - loss: 1.0547 - mse: 1.0547 - val_loss: 1.2269 - val_mse: 1.2269\n",
            "Epoch 16/50\n",
            "804/804 [==============================] - 1s 2ms/step - loss: 1.0525 - mse: 1.0525 - val_loss: 1.2229 - val_mse: 1.2229\n",
            "Epoch 17/50\n",
            "804/804 [==============================] - 2s 2ms/step - loss: 1.0506 - mse: 1.0506 - val_loss: 1.2192 - val_mse: 1.2192\n",
            "Epoch 18/50\n",
            "804/804 [==============================] - 2s 2ms/step - loss: 1.0490 - mse: 1.0490 - val_loss: 1.2158 - val_mse: 1.2158\n",
            "Epoch 19/50\n",
            "804/804 [==============================] - 2s 2ms/step - loss: 1.0477 - mse: 1.0477 - val_loss: 1.2126 - val_mse: 1.2126\n",
            "Epoch 20/50\n",
            "804/804 [==============================] - 3s 3ms/step - loss: 1.0465 - mse: 1.0465 - val_loss: 1.2097 - val_mse: 1.2097\n",
            "Epoch 21/50\n",
            "804/804 [==============================] - 2s 2ms/step - loss: 1.0455 - mse: 1.0455 - val_loss: 1.2071 - val_mse: 1.2071\n",
            "Epoch 22/50\n",
            "804/804 [==============================] - 1s 2ms/step - loss: 1.0446 - mse: 1.0446 - val_loss: 1.2047 - val_mse: 1.2047\n",
            "Epoch 23/50\n",
            "804/804 [==============================] - 2s 2ms/step - loss: 1.0439 - mse: 1.0439 - val_loss: 1.2025 - val_mse: 1.2025\n",
            "Epoch 24/50\n",
            "804/804 [==============================] - 2s 2ms/step - loss: 1.0432 - mse: 1.0432 - val_loss: 1.2005 - val_mse: 1.2005\n",
            "Epoch 25/50\n",
            "804/804 [==============================] - 1s 2ms/step - loss: 1.0427 - mse: 1.0427 - val_loss: 1.1987 - val_mse: 1.1987\n",
            "Epoch 26/50\n",
            "804/804 [==============================] - 1s 2ms/step - loss: 1.0422 - mse: 1.0422 - val_loss: 1.1970 - val_mse: 1.1970\n",
            "Epoch 27/50\n",
            "804/804 [==============================] - 3s 3ms/step - loss: 1.0417 - mse: 1.0417 - val_loss: 1.1955 - val_mse: 1.1955\n",
            "Epoch 28/50\n",
            "804/804 [==============================] - 2s 2ms/step - loss: 1.0414 - mse: 1.0414 - val_loss: 1.1941 - val_mse: 1.1941\n",
            "Epoch 29/50\n",
            "804/804 [==============================] - 1s 2ms/step - loss: 1.0411 - mse: 1.0411 - val_loss: 1.1929 - val_mse: 1.1929\n",
            "Epoch 30/50\n",
            "804/804 [==============================] - 2s 2ms/step - loss: 1.0408 - mse: 1.0408 - val_loss: 1.1917 - val_mse: 1.1917\n",
            "Epoch 31/50\n",
            "804/804 [==============================] - 2s 2ms/step - loss: 1.0405 - mse: 1.0405 - val_loss: 1.1907 - val_mse: 1.1907\n",
            "Epoch 32/50\n",
            "804/804 [==============================] - 1s 2ms/step - loss: 1.0403 - mse: 1.0403 - val_loss: 1.1897 - val_mse: 1.1897\n",
            "Epoch 33/50\n",
            "804/804 [==============================] - 2s 2ms/step - loss: 1.0401 - mse: 1.0401 - val_loss: 1.1888 - val_mse: 1.1888\n",
            "Epoch 34/50\n",
            "804/804 [==============================] - 2s 3ms/step - loss: 1.0400 - mse: 1.0400 - val_loss: 1.1880 - val_mse: 1.1880\n",
            "Epoch 35/50\n",
            "804/804 [==============================] - 2s 3ms/step - loss: 1.0398 - mse: 1.0398 - val_loss: 1.1873 - val_mse: 1.1873\n",
            "Epoch 36/50\n",
            "804/804 [==============================] - 2s 2ms/step - loss: 1.0397 - mse: 1.0397 - val_loss: 1.1866 - val_mse: 1.1866\n",
            "Epoch 37/50\n",
            "804/804 [==============================] - 2s 2ms/step - loss: 1.0396 - mse: 1.0396 - val_loss: 1.1860 - val_mse: 1.1860\n",
            "Epoch 38/50\n",
            "804/804 [==============================] - 2s 2ms/step - loss: 1.0395 - mse: 1.0395 - val_loss: 1.1854 - val_mse: 1.1854\n",
            "Epoch 39/50\n",
            "804/804 [==============================] - 2s 2ms/step - loss: 1.0394 - mse: 1.0394 - val_loss: 1.1849 - val_mse: 1.1849\n",
            "Epoch 40/50\n",
            "804/804 [==============================] - 2s 2ms/step - loss: 1.0393 - mse: 1.0393 - val_loss: 1.1844 - val_mse: 1.1844\n",
            "Epoch 41/50\n",
            "804/804 [==============================] - 2s 2ms/step - loss: 1.0393 - mse: 1.0393 - val_loss: 1.1840 - val_mse: 1.1840\n",
            "Epoch 42/50\n",
            "804/804 [==============================] - 2s 3ms/step - loss: 1.0392 - mse: 1.0392 - val_loss: 1.1836 - val_mse: 1.1836\n",
            "Epoch 43/50\n",
            "804/804 [==============================] - 4s 5ms/step - loss: 1.0392 - mse: 1.0392 - val_loss: 1.1832 - val_mse: 1.1832\n",
            "Epoch 44/50\n",
            "804/804 [==============================] - 2s 3ms/step - loss: 1.0391 - mse: 1.0391 - val_loss: 1.1829 - val_mse: 1.1829\n",
            "Epoch 45/50\n",
            "804/804 [==============================] - 2s 2ms/step - loss: 1.0391 - mse: 1.0391 - val_loss: 1.1826 - val_mse: 1.1826\n",
            "Epoch 46/50\n",
            "804/804 [==============================] - 2s 2ms/step - loss: 1.0390 - mse: 1.0390 - val_loss: 1.1823 - val_mse: 1.1823\n",
            "Epoch 47/50\n",
            "804/804 [==============================] - 5s 6ms/step - loss: 1.0390 - mse: 1.0390 - val_loss: 1.1820 - val_mse: 1.1820\n",
            "Epoch 48/50\n",
            "804/804 [==============================] - 4s 5ms/step - loss: 1.0390 - mse: 1.0390 - val_loss: 1.1818 - val_mse: 1.1818\n",
            "Epoch 49/50\n",
            "804/804 [==============================] - 2s 2ms/step - loss: 1.0389 - mse: 1.0389 - val_loss: 1.1815 - val_mse: 1.1815\n",
            "Epoch 50/50\n",
            "804/804 [==============================] - 2s 2ms/step - loss: 1.0389 - mse: 1.0389 - val_loss: 1.1814 - val_mse: 1.1814\n"
          ]
        },
        {
          "output_type": "display_data",
          "data": {
            "text/plain": [
              "<Figure size 640x480 with 1 Axes>"
            ],
            "image/png": "[encoded data removed]"
          },
          "metadata": {}
        },
        {
          "output_type": "display_data",
          "data": {
            "text/plain": [
              "<Figure size 640x480 with 1 Axes>"
            ],
            "image/png": "[encoded data removed]"
          },
          "metadata": {}
        }
      ]
    },
    {
      "cell_type": "markdown",
      "source": [
        "### 9.2 Perceptrón multicapa con función de activación RELU"
      ],
      "metadata": {
        "id": "Y4bbBBXuRA1Z"
      }
    },
    {
      "cell_type": "markdown",
      "source": [
        "Creamos el modelo"
      ],
      "metadata": {
        "id": "rmSo9NcDRrbK"
      }
    },
    {
      "cell_type": "code",
      "source": [
        "def create_PM_relu(num_hidden_neurons = 50):\n",
        "#1 capa oculta con relu y 1 neurona de salida con sigmoide\n",
        "  model = Sequential()\n",
        "  model.add(Dense(num_hidden_neurons, input_shape=input_shape, activation='relu'))\n",
        "  model.add(Dense(1,activation='sigmoid'))\n",
        "  return model\n",
        "\n",
        "model_relu = create_PM_relu(20)"
      ],
      "metadata": {
        "id": "RTL4B8pORX-q"
      },
      "execution_count": 19,
      "outputs": []
    },
    {
      "cell_type": "code",
      "source": [
        "# CONFIGURAR MODELO Y ENTRENAMIENTO\n",
        "lr = 0.2 # razon de aprendizaje\n",
        "epochs = 10 # numero de ciclos que se quiere realizar en el entrenamiento\n",
        "batch_size=32 # ¡¡¡¡¡¡ no cambiar este valor !!!!!!!!!!!!!!\n",
        "# Para poder ver la curva de validación hay que poner validation_freq=1. Tarda más\n",
        "model_relu.compile(loss='mean_squared_error', optimizer=tf.keras.optimizers.SGD(learning_rate=lr, momentum=0), metrics=['mse'] )\n",
        "historico = model_relu.fit(X_train, y_train, epochs=epochs, batch_size=batch_size, verbose=1, validation_data=(X_validation,y_validation),\n",
        "shuffle=False, validation_freq=1)\n",
        "\n",
        "\n",
        "plt.plot(historico.history['loss'])\n",
        "plt.plot(historico.history['val_loss'])\n",
        "plt.title('model loss')\n",
        "plt.ylabel('loss')\n",
        "plt.xlabel('epoch')\n",
        "plt.legend(['train', 'val'], loc='upper right')\n",
        "plt.show()"
      ],
      "metadata": {
        "colab": {
          "base_uri": "https://localhost:8080/",
          "height": 849
        },
        "id": "AxDccs0vgrCC",
        "outputId": "d6fa3d09-5d0b-4770-d92c-6242dc4236a3"
      },
      "execution_count": 20,
      "outputs": [
        {
          "output_type": "stream",
          "name": "stdout",
          "text": [
            "Epoch 1/10\n",
            "804/804 [==============================] - 2s 2ms/step - loss: 17812.4316 - mse: 17812.4316 - val_loss: 17800.3789 - val_mse: 17800.3789\n",
            "Epoch 2/10\n",
            "804/804 [==============================] - 2s 2ms/step - loss: 17812.2422 - mse: 17812.2422 - val_loss: 17800.3789 - val_mse: 17800.3789\n",
            "Epoch 3/10\n",
            "804/804 [==============================] - 2s 3ms/step - loss: 17812.2422 - mse: 17812.2422 - val_loss: 17800.3789 - val_mse: 17800.3789\n",
            "Epoch 4/10\n",
            "804/804 [==============================] - 2s 2ms/step - loss: 17812.2422 - mse: 17812.2422 - val_loss: 17800.3789 - val_mse: 17800.3789\n",
            "Epoch 5/10\n",
            "804/804 [==============================] - 2s 2ms/step - loss: 17812.2422 - mse: 17812.2422 - val_loss: 17800.3789 - val_mse: 17800.3789\n",
            "Epoch 6/10\n",
            "804/804 [==============================] - 2s 2ms/step - loss: 17812.2422 - mse: 17812.2422 - val_loss: 17800.3789 - val_mse: 17800.3789\n",
            "Epoch 7/10\n",
            "804/804 [==============================] - 2s 2ms/step - loss: 17812.2422 - mse: 17812.2422 - val_loss: 17800.3789 - val_mse: 17800.3789\n",
            "Epoch 8/10\n",
            "804/804 [==============================] - 2s 2ms/step - loss: 17812.2422 - mse: 17812.2422 - val_loss: 17800.3789 - val_mse: 17800.3789\n",
            "Epoch 9/10\n",
            "804/804 [==============================] - 3s 3ms/step - loss: 17812.2422 - mse: 17812.2422 - val_loss: 17800.3789 - val_mse: 17800.3789\n",
            "Epoch 10/10\n",
            "804/804 [==============================] - 2s 3ms/step - loss: 17812.2422 - mse: 17812.2422 - val_loss: 17800.3789 - val_mse: 17800.3789\n"
          ]
        },
        {
          "output_type": "display_data",
          "data": {
            "text/plain": [
              "<Figure size 640x480 with 1 Axes>"
            ],
            "image/png": "[encoded data removed]"
          },
          "metadata": {}
        }
      ]
    },
    {
      "cell_type": "markdown",
      "source": [
        "### 9.3 Perceptrón multicapa con función de activación sigmoide"
      ],
      "metadata": {
        "id": "1fKLGkmYRSm7"
      }
    },
    {
      "cell_type": "markdown",
      "source": [
        "Creamos el modelo"
      ],
      "metadata": {
        "id": "CfUnYQ0gRp3y"
      }
    },
    {
      "cell_type": "code",
      "source": [
        "def create_PM_sigmoid(num_hidden_neurons = 50):#se pone un valor por defecto a num_hidden_neurons, pero puede llamarse con otro valor\n",
        "  #1 capa oculta y 1 neurona de salida con sigmoide\n",
        "  model = Sequential() # generamos el modelo dandole una forma secuencial:\n",
        "  model.add(Dense(num_hidden_neurons, input_shape=input_shape, activation='sigmoid')) # capa con x=num_hidden_neurons neuronas activadas con sigmoide\n",
        "  model.add(Dense(1,activation='sigmoid')) # capa con x=1 neurona (solo una neurona de salida) activada con sigmoide\n",
        "  return model\n",
        "\n",
        "model_sigmoid = create_PM_sigmoid(20)"
      ],
      "metadata": {
        "id": "R6kFM6KYRozY"
      },
      "execution_count": 21,
      "outputs": []
    },
    {
      "cell_type": "code",
      "source": [
        "# CONFIGURAR MODELO Y ENTRENAMIENTO\n",
        "lr = 0.2 # razon de aprendizaje\n",
        "epochs = 10 # numero de ciclos que se quiere realizar en el entrenamiento\n",
        "batch_size=32 # ¡¡¡¡¡¡ no cambiar este valor !!!!!!!!!!!!!!\n",
        "# Para poder ver la curva de validación hay que poner validation_freq=1. Tarda más\n",
        "model_sigmoid.compile(loss='mean_squared_error', optimizer=tf.keras.optimizers.SGD(learning_rate=lr, momentum=0), metrics=['mse'] )\n",
        "historico = model_sigmoid.fit(X_train, y_train, epochs=epochs, batch_size=batch_size, verbose=1, validation_data=(X_validation,y_validation),\n",
        "shuffle=False, validation_freq=1)\n",
        "\n",
        "\n",
        "plt.plot(historico.history['loss'])\n",
        "plt.plot(historico.history['val_loss'])\n",
        "plt.title('model loss')\n",
        "plt.ylabel('loss')\n",
        "plt.xlabel('epoch')\n",
        "plt.legend(['train', 'val'], loc='upper right')\n",
        "plt.show()"
      ],
      "metadata": {
        "colab": {
          "base_uri": "https://localhost:8080/",
          "height": 849
        },
        "id": "eu8v0bsfxPj-",
        "outputId": "ec1583e3-7381-4969-dfcc-ee9eee40f549"
      },
      "execution_count": 22,
      "outputs": [
        {
          "output_type": "stream",
          "name": "stdout",
          "text": [
            "Epoch 1/10\n",
            "804/804 [==============================] - 2s 2ms/step - loss: 17812.4805 - mse: 17812.4805 - val_loss: 17800.3789 - val_mse: 17800.3789\n",
            "Epoch 2/10\n",
            "804/804 [==============================] - 2s 2ms/step - loss: 17812.2422 - mse: 17812.2422 - val_loss: 17800.3789 - val_mse: 17800.3789\n",
            "Epoch 3/10\n",
            "804/804 [==============================] - 2s 2ms/step - loss: 17812.2422 - mse: 17812.2422 - val_loss: 17800.3789 - val_mse: 17800.3789\n",
            "Epoch 4/10\n",
            "804/804 [==============================] - 2s 2ms/step - loss: 17812.2422 - mse: 17812.2422 - val_loss: 17800.3789 - val_mse: 17800.3789\n",
            "Epoch 5/10\n",
            "804/804 [==============================] - 3s 3ms/step - loss: 17812.2422 - mse: 17812.2422 - val_loss: 17800.3789 - val_mse: 17800.3789\n",
            "Epoch 6/10\n",
            "804/804 [==============================] - 2s 2ms/step - loss: 17812.2422 - mse: 17812.2422 - val_loss: 17800.3789 - val_mse: 17800.3789\n",
            "Epoch 7/10\n",
            "804/804 [==============================] - 2s 2ms/step - loss: 17812.2422 - mse: 17812.2422 - val_loss: 17800.3789 - val_mse: 17800.3789\n",
            "Epoch 8/10\n",
            "804/804 [==============================] - 2s 2ms/step - loss: 17812.2422 - mse: 17812.2422 - val_loss: 17800.3789 - val_mse: 17800.3789\n",
            "Epoch 9/10\n",
            "804/804 [==============================] - 2s 2ms/step - loss: 17812.2422 - mse: 17812.2422 - val_loss: 17800.3789 - val_mse: 17800.3789\n",
            "Epoch 10/10\n",
            "804/804 [==============================] - 2s 2ms/step - loss: 17812.2422 - mse: 17812.2422 - val_loss: 17800.3789 - val_mse: 17800.3789\n"
          ]
        },
        {
          "output_type": "display_data",
          "data": {
            "text/plain": [
              "<Figure size 640x480 with 1 Axes>"
            ],
            "image/png": "[encoded data removed]"
          },
          "metadata": {}
        }
      ]
    }
  ]
}