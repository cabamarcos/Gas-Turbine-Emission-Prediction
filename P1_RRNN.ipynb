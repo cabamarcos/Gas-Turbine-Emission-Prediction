{
  "nbformat": 4,
  "nbformat_minor": 0,
  "metadata": {
    "colab": {
      "provenance": [],
      "include_colab_link": true
    },
    "kernelspec": {
      "name": "python3",
      "display_name": "Python 3"
    },
    "language_info": {
      "name": "python"
    }
  },
  "cells": [
    {
      "cell_type": "markdown",
      "metadata": {
        "id": "view-in-github",
        "colab_type": "text"
      },
      "source": [
        "<a href=\"https://colab.research.google.com/github/cabamarcos/P1-RRNN/blob/main/P1_RRNN.ipynb\" target=\"_parent\"><img src=\"https://colab.research.google.com/assets/colab-badge.svg\" alt=\"Open In Colab\"/></a>"
      ]
    },
    {
      "cell_type": "markdown",
      "source": [
        "# Práctica 1 Redes de Neuronas"
      ],
      "metadata": {
        "id": "7iY_abAvit7S"
      }
    },
    {
      "cell_type": "markdown",
      "source": [
        "## 1. Introducción"
      ],
      "metadata": {
        "id": "EmYCUYAaj0kB"
      }
    },
    {
      "cell_type": "code",
      "source": [],
      "metadata": {
        "id": "zOtGLNyQkHZ-"
      },
      "execution_count": null,
      "outputs": []
    },
    {
      "cell_type": "markdown",
      "source": [
        "## 2. Programación del modelo lineal Adaline"
      ],
      "metadata": {
        "id": "GtpQaB4wj562"
      }
    },
    {
      "cell_type": "markdown",
      "source": [],
      "metadata": {
        "id": "qSyYSsgMkVG9"
      }
    },
    {
      "cell_type": "code",
      "source": [
        "import numpy as np\n",
        "import pandas as pd\n",
        "import random"
      ],
      "metadata": {
        "id": "mfyY51h7ith4"
      },
      "execution_count": 2,
      "outputs": []
    },
    {
      "cell_type": "code",
      "source": [
        "# Inicialización de pesos de manera aleatoria (valores entre -1 y 1, por ejemplo)\n",
        "pesos = np.random.uniform(-1, 1, size=(10))\n",
        "pesos"
      ],
      "metadata": {
        "id": "8jb6Jp9NrSFa",
        "colab": {
          "base_uri": "https://localhost:8080/"
        },
        "outputId": "529c2786-57d8-475a-9591-444f9b52847f"
      },
      "execution_count": 4,
      "outputs": [
        {
          "output_type": "execute_result",
          "data": {
            "text/plain": [
              "array([-0.67797514, -0.23055206, -0.19213239, -0.82768677,  0.78859283,\n",
              "        0.57081511, -0.34978124, -0.72294725,  0.41161063,  0.99183526])"
            ]
          },
          "metadata": {},
          "execution_count": 4
        }
      ]
    },
    {
      "cell_type": "code",
      "execution_count": null,
      "metadata": {
        "id": "6ql0Bxcag3Zo"
      },
      "outputs": [],
      "source": [
        "class Adaline:\n",
        "  def __init__(learning_rate, n_iter = 100000, random_seed = 45):\n",
        "    self.learning_rate = learning_rate\n",
        "    self.n_iter = n_iter\n",
        "    self.random_seed = 45\n",
        "    self.weights = None\n",
        "    self.umbral = 0\n",
        "\n",
        "  def fit(self, X, y):\n",
        "    \"\"\" Método que entrena el modelo \"\"\"\n",
        "    # Inicializamos el modelo\n",
        "    self.__initialize_Adaline(X)\n",
        "\n",
        "    # Realizamos la modificación de los pesos n_iter veces\n",
        "    for i in range(n_iter):\n",
        "      salida = np.dot(X.T, self.weights)\n",
        "      errores = y - salida\n",
        "      # Actualizamos el vector de pesos\n",
        "      self.weights += self.learning_rate * np.dot(X.T * errores)\n",
        "      # Actualizamos el umbral\n",
        "      umbral += self.learning_rate * np.sum(errores)\n",
        "\n",
        "  def __initialize_Adaline(self, X):\n",
        "    \"\"\" Método privado que inicializa los pesos y el umbral del Adaline de forma aleatoria \"\"\"\n",
        "      # Inicializamos la semilla de aleatoriedad\n",
        "      np.random.seed = self.random_seed\n",
        "      # Generamos tantos números aleatorios desde -0.5 hasta 0.5 como atributos tenga el conjunto\n",
        "      self.weights = np.random.uniform(-0.5, 0.5, size=(X.shape[1]))\n",
        "      # Generamos el umbral de manera aleatoria\n",
        "      self.umbral = np.random.uniform(-0.5, 0.5)\n",
        "\n",
        "\n",
        "\n"
      ]
    },
    {
      "cell_type": "code",
      "source": [
        "# Cargamos lso datos del 2011 en un pandas dataframe\n",
        "datos_2011 = pd.read_csv(\"gt_2011.csv\")\n",
        "datos_2011.shape[0]"
      ],
      "metadata": {
        "id": "n4ISR4QjrURc",
        "outputId": "99724dbb-18bf-4235-f246-fb8bcb71b7ad",
        "colab": {
          "base_uri": "https://localhost:8080/"
        }
      },
      "execution_count": 11,
      "outputs": [
        {
          "output_type": "execute_result",
          "data": {
            "text/plain": [
              "7411"
            ]
          },
          "metadata": {},
          "execution_count": 11
        }
      ]
    },
    {
      "cell_type": "code",
      "source": [],
      "metadata": {
        "id": "NjDe2E7_riwj"
      },
      "execution_count": null,
      "outputs": []
    }
  ]
}