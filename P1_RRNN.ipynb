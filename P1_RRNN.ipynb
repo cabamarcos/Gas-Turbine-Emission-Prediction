{
  "nbformat": 4,
  "nbformat_minor": 0,
  "metadata": {
    "colab": {
      "provenance": [],
      "include_colab_link": true
    },
    "kernelspec": {
      "name": "python3",
      "display_name": "Python 3"
    },
    "language_info": {
      "name": "python"
    }
  },
  "cells": [
    {
      "cell_type": "markdown",
      "metadata": {
        "id": "view-in-github",
        "colab_type": "text"
      },
      "source": [
        "<a href=\"https://colab.research.google.com/github/cabamarcos/P1-RRNN/blob/main/P1_RRNN.ipynb\" target=\"_parent\"><img src=\"https://colab.research.google.com/assets/colab-badge.svg\" alt=\"Open In Colab\"/></a>"
      ]
    },
    {
      "cell_type": "markdown",
      "source": [
        "# Práctica 1 Redes de Neuronas"
      ],
      "metadata": {
        "id": "7iY_abAvit7S"
      }
    },
    {
      "cell_type": "markdown",
      "source": [
        "## 1. Introducción"
      ],
      "metadata": {
        "id": "EmYCUYAaj0kB"
      }
    },
    {
      "cell_type": "code",
      "source": [],
      "metadata": {
        "id": "zOtGLNyQkHZ-"
      },
      "execution_count": 55,
      "outputs": []
    },
    {
      "cell_type": "markdown",
      "source": [
        "## 2. Programación del modelo lineal Adaline"
      ],
      "metadata": {
        "id": "GtpQaB4wj562"
      }
    },
    {
      "cell_type": "code",
      "source": [
        "import numpy as np\n",
        "import pandas as pd\n",
        "import random\n",
        "\n",
        "from sklearn.model_selection import train_test_split\n"
      ],
      "metadata": {
        "id": "mfyY51h7ith4"
      },
      "execution_count": 56,
      "outputs": []
    },
    {
      "cell_type": "markdown",
      "source": [
        "Cargamos los datos en un mismo dataframe para posteriormente poder aleatorizarlos"
      ],
      "metadata": {
        "id": "e3_ymU7Se3rV"
      }
    },
    {
      "cell_type": "code",
      "source": [
        "archivos_csv = ['gt_2011.csv', 'gt_2012.csv', 'gt_2013.csv', 'gt_2014.csv', 'gt_2015.csv']\n",
        "\n",
        "df_final = pd.DataFrame()\n",
        "\n",
        "for archivo in archivos_csv:\n",
        "    # Leer el archivo CSV y cargarlo en un DataFrame temporal\n",
        "    df_temporal = pd.read_csv(archivo)\n",
        "\n",
        "    # Concatenar el DataFrame temporal con el DataFrame final\n",
        "    df_final = pd.concat([df_final, df_temporal], ignore_index=True)\n"
      ],
      "metadata": {
        "id": "8jb6Jp9NrSFa"
      },
      "execution_count": 57,
      "outputs": []
    },
    {
      "cell_type": "markdown",
      "source": [
        "Ahora aleatorizamos los datos"
      ],
      "metadata": {
        "id": "-0Mu5Qm0fDqW"
      }
    },
    {
      "cell_type": "code",
      "source": [
        "datos = df_final.sample(frac=1, random_state=random.seed(123))\n",
        "datos"
      ],
      "metadata": {
        "id": "-ZEe9-QvfF8G",
        "outputId": "8dc19086-3f7e-48f1-8cb1-ec7f4b2cd684",
        "colab": {
          "base_uri": "https://localhost:8080/",
          "height": 424
        }
      },
      "execution_count": 58,
      "outputs": [
        {
          "output_type": "execute_result",
          "data": {
            "text/plain": [
              "            AT      AP       AH    AFDP    GTEP     TIT     TAT     TEY  \\\n",
              "14263   8.1883  1016.7   93.811  2.7254  23.790  1084.1  550.09  134.21   \n",
              "16321  14.1490  1017.6   83.055  3.0875  24.218  1086.0  549.99  133.79   \n",
              "31759  21.0200  1019.0   56.600  4.0826  33.526  1100.0  541.02  151.21   \n",
              "2347   13.2010  1009.5  100.120  3.5562  22.370  1074.4  549.84  125.52   \n",
              "16316  14.9490  1018.7   87.213  4.1582  32.522  1100.0  530.30  157.34   \n",
              "...        ...     ...      ...     ...     ...     ...     ...     ...   \n",
              "7944    3.9947  1019.0   94.028  5.9859  34.269  1100.0  524.97  167.40   \n",
              "12044  21.1140  1016.6   83.783  3.4022  20.008  1058.4  549.89  110.81   \n",
              "13719  21.6530  1007.9   83.814  3.6172  19.798  1056.6  550.11  109.45   \n",
              "28595   7.0983  1020.3   83.139  2.5173  21.441  1063.3  549.97  122.64   \n",
              "16471  10.6400  1017.5   75.264  4.2043  33.166  1100.0  527.78  162.10   \n",
              "\n",
              "          CDP       CO     NOX  \n",
              "14263  11.794  2.04630  68.764  \n",
              "16321  11.872  2.55650  76.899  \n",
              "31759  13.500  3.09440  66.549  \n",
              "2347   11.351  1.70050  67.606  \n",
              "16316  13.877  0.99215  67.841  \n",
              "...       ...      ...     ...  \n",
              "7944   14.303  0.37583  61.567  \n",
              "12044  10.552  4.06080  54.041  \n",
              "13719  10.496  5.16550  55.170  \n",
              "28595  11.172  2.52260  72.596  \n",
              "16471  14.023  0.95913  66.055  \n",
              "\n",
              "[36733 rows x 11 columns]"
            ],
            "text/html": [
              "\n",
              "  <div id=\"df-59476bc1-b717-4154-beff-f5f9c4125020\" class=\"colab-df-container\">\n",
              "    <div>\n",
              "<style scoped>\n",
              "    .dataframe tbody tr th:only-of-type {\n",
              "        vertical-align: middle;\n",
              "    }\n",
              "\n",
              "    .dataframe tbody tr th {\n",
              "        vertical-align: top;\n",
              "    }\n",
              "\n",
              "    .dataframe thead th {\n",
              "        text-align: right;\n",
              "    }\n",
              "</style>\n",
              "<table border=\"1\" class=\"dataframe\">\n",
              "  <thead>\n",
              "    <tr style=\"text-align: right;\">\n",
              "      <th></th>\n",
              "      <th>AT</th>\n",
              "      <th>AP</th>\n",
              "      <th>AH</th>\n",
              "      <th>AFDP</th>\n",
              "      <th>GTEP</th>\n",
              "      <th>TIT</th>\n",
              "      <th>TAT</th>\n",
              "      <th>TEY</th>\n",
              "      <th>CDP</th>\n",
              "      <th>CO</th>\n",
              "      <th>NOX</th>\n",
              "    </tr>\n",
              "  </thead>\n",
              "  <tbody>\n",
              "    <tr>\n",
              "      <th>14263</th>\n",
              "      <td>8.1883</td>\n",
              "      <td>1016.7</td>\n",
              "      <td>93.811</td>\n",
              "      <td>2.7254</td>\n",
              "      <td>23.790</td>\n",
              "      <td>1084.1</td>\n",
              "      <td>550.09</td>\n",
              "      <td>134.21</td>\n",
              "      <td>11.794</td>\n",
              "      <td>2.04630</td>\n",
              "      <td>68.764</td>\n",
              "    </tr>\n",
              "    <tr>\n",
              "      <th>16321</th>\n",
              "      <td>14.1490</td>\n",
              "      <td>1017.6</td>\n",
              "      <td>83.055</td>\n",
              "      <td>3.0875</td>\n",
              "      <td>24.218</td>\n",
              "      <td>1086.0</td>\n",
              "      <td>549.99</td>\n",
              "      <td>133.79</td>\n",
              "      <td>11.872</td>\n",
              "      <td>2.55650</td>\n",
              "      <td>76.899</td>\n",
              "    </tr>\n",
              "    <tr>\n",
              "      <th>31759</th>\n",
              "      <td>21.0200</td>\n",
              "      <td>1019.0</td>\n",
              "      <td>56.600</td>\n",
              "      <td>4.0826</td>\n",
              "      <td>33.526</td>\n",
              "      <td>1100.0</td>\n",
              "      <td>541.02</td>\n",
              "      <td>151.21</td>\n",
              "      <td>13.500</td>\n",
              "      <td>3.09440</td>\n",
              "      <td>66.549</td>\n",
              "    </tr>\n",
              "    <tr>\n",
              "      <th>2347</th>\n",
              "      <td>13.2010</td>\n",
              "      <td>1009.5</td>\n",
              "      <td>100.120</td>\n",
              "      <td>3.5562</td>\n",
              "      <td>22.370</td>\n",
              "      <td>1074.4</td>\n",
              "      <td>549.84</td>\n",
              "      <td>125.52</td>\n",
              "      <td>11.351</td>\n",
              "      <td>1.70050</td>\n",
              "      <td>67.606</td>\n",
              "    </tr>\n",
              "    <tr>\n",
              "      <th>16316</th>\n",
              "      <td>14.9490</td>\n",
              "      <td>1018.7</td>\n",
              "      <td>87.213</td>\n",
              "      <td>4.1582</td>\n",
              "      <td>32.522</td>\n",
              "      <td>1100.0</td>\n",
              "      <td>530.30</td>\n",
              "      <td>157.34</td>\n",
              "      <td>13.877</td>\n",
              "      <td>0.99215</td>\n",
              "      <td>67.841</td>\n",
              "    </tr>\n",
              "    <tr>\n",
              "      <th>...</th>\n",
              "      <td>...</td>\n",
              "      <td>...</td>\n",
              "      <td>...</td>\n",
              "      <td>...</td>\n",
              "      <td>...</td>\n",
              "      <td>...</td>\n",
              "      <td>...</td>\n",
              "      <td>...</td>\n",
              "      <td>...</td>\n",
              "      <td>...</td>\n",
              "      <td>...</td>\n",
              "    </tr>\n",
              "    <tr>\n",
              "      <th>7944</th>\n",
              "      <td>3.9947</td>\n",
              "      <td>1019.0</td>\n",
              "      <td>94.028</td>\n",
              "      <td>5.9859</td>\n",
              "      <td>34.269</td>\n",
              "      <td>1100.0</td>\n",
              "      <td>524.97</td>\n",
              "      <td>167.40</td>\n",
              "      <td>14.303</td>\n",
              "      <td>0.37583</td>\n",
              "      <td>61.567</td>\n",
              "    </tr>\n",
              "    <tr>\n",
              "      <th>12044</th>\n",
              "      <td>21.1140</td>\n",
              "      <td>1016.6</td>\n",
              "      <td>83.783</td>\n",
              "      <td>3.4022</td>\n",
              "      <td>20.008</td>\n",
              "      <td>1058.4</td>\n",
              "      <td>549.89</td>\n",
              "      <td>110.81</td>\n",
              "      <td>10.552</td>\n",
              "      <td>4.06080</td>\n",
              "      <td>54.041</td>\n",
              "    </tr>\n",
              "    <tr>\n",
              "      <th>13719</th>\n",
              "      <td>21.6530</td>\n",
              "      <td>1007.9</td>\n",
              "      <td>83.814</td>\n",
              "      <td>3.6172</td>\n",
              "      <td>19.798</td>\n",
              "      <td>1056.6</td>\n",
              "      <td>550.11</td>\n",
              "      <td>109.45</td>\n",
              "      <td>10.496</td>\n",
              "      <td>5.16550</td>\n",
              "      <td>55.170</td>\n",
              "    </tr>\n",
              "    <tr>\n",
              "      <th>28595</th>\n",
              "      <td>7.0983</td>\n",
              "      <td>1020.3</td>\n",
              "      <td>83.139</td>\n",
              "      <td>2.5173</td>\n",
              "      <td>21.441</td>\n",
              "      <td>1063.3</td>\n",
              "      <td>549.97</td>\n",
              "      <td>122.64</td>\n",
              "      <td>11.172</td>\n",
              "      <td>2.52260</td>\n",
              "      <td>72.596</td>\n",
              "    </tr>\n",
              "    <tr>\n",
              "      <th>16471</th>\n",
              "      <td>10.6400</td>\n",
              "      <td>1017.5</td>\n",
              "      <td>75.264</td>\n",
              "      <td>4.2043</td>\n",
              "      <td>33.166</td>\n",
              "      <td>1100.0</td>\n",
              "      <td>527.78</td>\n",
              "      <td>162.10</td>\n",
              "      <td>14.023</td>\n",
              "      <td>0.95913</td>\n",
              "      <td>66.055</td>\n",
              "    </tr>\n",
              "  </tbody>\n",
              "</table>\n",
              "<p>36733 rows × 11 columns</p>\n",
              "</div>\n",
              "    <div class=\"colab-df-buttons\">\n",
              "\n",
              "  <div class=\"colab-df-container\">\n",
              "    <button class=\"colab-df-convert\" onclick=\"convertToInteractive('df-59476bc1-b717-4154-beff-f5f9c4125020')\"\n",
              "            title=\"Convert this dataframe to an interactive table.\"\n",
              "            style=\"display:none;\">\n",
              "\n",
              "  <svg xmlns=\"http://www.w3.org/2000/svg\" height=\"24px\" viewBox=\"0 -960 960 960\">\n",
              "    <path d=\"M120-120v-720h720v720H120Zm60-500h600v-160H180v160Zm220 220h160v-160H400v160Zm0 220h160v-160H400v160ZM180-400h160v-160H180v160Zm440 0h160v-160H620v160ZM180-180h160v-160H180v160Zm440 0h160v-160H620v160Z\"/>\n",
              "  </svg>\n",
              "    </button>\n",
              "\n",
              "  <style>\n",
              "    .colab-df-container {\n",
              "      display:flex;\n",
              "      gap: 12px;\n",
              "    }\n",
              "\n",
              "    .colab-df-convert {\n",
              "      background-color: #E8F0FE;\n",
              "      border: none;\n",
              "      border-radius: 50%;\n",
              "      cursor: pointer;\n",
              "      display: none;\n",
              "      fill: #1967D2;\n",
              "      height: 32px;\n",
              "      padding: 0 0 0 0;\n",
              "      width: 32px;\n",
              "    }\n",
              "\n",
              "    .colab-df-convert:hover {\n",
              "      background-color: #E2EBFA;\n",
              "      box-shadow: 0px 1px 2px rgba(60, 64, 67, 0.3), 0px 1px 3px 1px rgba(60, 64, 67, 0.15);\n",
              "      fill: #174EA6;\n",
              "    }\n",
              "\n",
              "    .colab-df-buttons div {\n",
              "      margin-bottom: 4px;\n",
              "    }\n",
              "\n",
              "    [theme=dark] .colab-df-convert {\n",
              "      background-color: #3B4455;\n",
              "      fill: #D2E3FC;\n",
              "    }\n",
              "\n",
              "    [theme=dark] .colab-df-convert:hover {\n",
              "      background-color: #434B5C;\n",
              "      box-shadow: 0px 1px 3px 1px rgba(0, 0, 0, 0.15);\n",
              "      filter: drop-shadow(0px 1px 2px rgba(0, 0, 0, 0.3));\n",
              "      fill: #FFFFFF;\n",
              "    }\n",
              "  </style>\n",
              "\n",
              "    <script>\n",
              "      const buttonEl =\n",
              "        document.querySelector('#df-59476bc1-b717-4154-beff-f5f9c4125020 button.colab-df-convert');\n",
              "      buttonEl.style.display =\n",
              "        google.colab.kernel.accessAllowed ? 'block' : 'none';\n",
              "\n",
              "      async function convertToInteractive(key) {\n",
              "        const element = document.querySelector('#df-59476bc1-b717-4154-beff-f5f9c4125020');\n",
              "        const dataTable =\n",
              "          await google.colab.kernel.invokeFunction('convertToInteractive',\n",
              "                                                    [key], {});\n",
              "        if (!dataTable) return;\n",
              "\n",
              "        const docLinkHtml = 'Like what you see? Visit the ' +\n",
              "          '<a target=\"_blank\" href=https://colab.research.google.com/notebooks/data_table.ipynb>data table notebook</a>'\n",
              "          + ' to learn more about interactive tables.';\n",
              "        element.innerHTML = '';\n",
              "        dataTable['output_type'] = 'display_data';\n",
              "        await google.colab.output.renderOutput(dataTable, element);\n",
              "        const docLink = document.createElement('div');\n",
              "        docLink.innerHTML = docLinkHtml;\n",
              "        element.appendChild(docLink);\n",
              "      }\n",
              "    </script>\n",
              "  </div>\n",
              "\n",
              "\n",
              "<div id=\"df-f1ef101f-188c-4d17-9206-56c5304f0c14\">\n",
              "  <button class=\"colab-df-quickchart\" onclick=\"quickchart('df-f1ef101f-188c-4d17-9206-56c5304f0c14')\"\n",
              "            title=\"Suggest charts.\"\n",
              "            style=\"display:none;\">\n",
              "\n",
              "<svg xmlns=\"http://www.w3.org/2000/svg\" height=\"24px\"viewBox=\"0 0 24 24\"\n",
              "     width=\"24px\">\n",
              "    <g>\n",
              "        <path d=\"M19 3H5c-1.1 0-2 .9-2 2v14c0 1.1.9 2 2 2h14c1.1 0 2-.9 2-2V5c0-1.1-.9-2-2-2zM9 17H7v-7h2v7zm4 0h-2V7h2v10zm4 0h-2v-4h2v4z\"/>\n",
              "    </g>\n",
              "</svg>\n",
              "  </button>\n",
              "\n",
              "<style>\n",
              "  .colab-df-quickchart {\n",
              "      --bg-color: #E8F0FE;\n",
              "      --fill-color: #1967D2;\n",
              "      --hover-bg-color: #E2EBFA;\n",
              "      --hover-fill-color: #174EA6;\n",
              "      --disabled-fill-color: #AAA;\n",
              "      --disabled-bg-color: #DDD;\n",
              "  }\n",
              "\n",
              "  [theme=dark] .colab-df-quickchart {\n",
              "      --bg-color: #3B4455;\n",
              "      --fill-color: #D2E3FC;\n",
              "      --hover-bg-color: #434B5C;\n",
              "      --hover-fill-color: #FFFFFF;\n",
              "      --disabled-bg-color: #3B4455;\n",
              "      --disabled-fill-color: #666;\n",
              "  }\n",
              "\n",
              "  .colab-df-quickchart {\n",
              "    background-color: var(--bg-color);\n",
              "    border: none;\n",
              "    border-radius: 50%;\n",
              "    cursor: pointer;\n",
              "    display: none;\n",
              "    fill: var(--fill-color);\n",
              "    height: 32px;\n",
              "    padding: 0;\n",
              "    width: 32px;\n",
              "  }\n",
              "\n",
              "  .colab-df-quickchart:hover {\n",
              "    background-color: var(--hover-bg-color);\n",
              "    box-shadow: 0 1px 2px rgba(60, 64, 67, 0.3), 0 1px 3px 1px rgba(60, 64, 67, 0.15);\n",
              "    fill: var(--button-hover-fill-color);\n",
              "  }\n",
              "\n",
              "  .colab-df-quickchart-complete:disabled,\n",
              "  .colab-df-quickchart-complete:disabled:hover {\n",
              "    background-color: var(--disabled-bg-color);\n",
              "    fill: var(--disabled-fill-color);\n",
              "    box-shadow: none;\n",
              "  }\n",
              "\n",
              "  .colab-df-spinner {\n",
              "    border: 2px solid var(--fill-color);\n",
              "    border-color: transparent;\n",
              "    border-bottom-color: var(--fill-color);\n",
              "    animation:\n",
              "      spin 1s steps(1) infinite;\n",
              "  }\n",
              "\n",
              "  @keyframes spin {\n",
              "    0% {\n",
              "      border-color: transparent;\n",
              "      border-bottom-color: var(--fill-color);\n",
              "      border-left-color: var(--fill-color);\n",
              "    }\n",
              "    20% {\n",
              "      border-color: transparent;\n",
              "      border-left-color: var(--fill-color);\n",
              "      border-top-color: var(--fill-color);\n",
              "    }\n",
              "    30% {\n",
              "      border-color: transparent;\n",
              "      border-left-color: var(--fill-color);\n",
              "      border-top-color: var(--fill-color);\n",
              "      border-right-color: var(--fill-color);\n",
              "    }\n",
              "    40% {\n",
              "      border-color: transparent;\n",
              "      border-right-color: var(--fill-color);\n",
              "      border-top-color: var(--fill-color);\n",
              "    }\n",
              "    60% {\n",
              "      border-color: transparent;\n",
              "      border-right-color: var(--fill-color);\n",
              "    }\n",
              "    80% {\n",
              "      border-color: transparent;\n",
              "      border-right-color: var(--fill-color);\n",
              "      border-bottom-color: var(--fill-color);\n",
              "    }\n",
              "    90% {\n",
              "      border-color: transparent;\n",
              "      border-bottom-color: var(--fill-color);\n",
              "    }\n",
              "  }\n",
              "</style>\n",
              "\n",
              "  <script>\n",
              "    async function quickchart(key) {\n",
              "      const quickchartButtonEl =\n",
              "        document.querySelector('#' + key + ' button');\n",
              "      quickchartButtonEl.disabled = true;  // To prevent multiple clicks.\n",
              "      quickchartButtonEl.classList.add('colab-df-spinner');\n",
              "      try {\n",
              "        const charts = await google.colab.kernel.invokeFunction(\n",
              "            'suggestCharts', [key], {});\n",
              "      } catch (error) {\n",
              "        console.error('Error during call to suggestCharts:', error);\n",
              "      }\n",
              "      quickchartButtonEl.classList.remove('colab-df-spinner');\n",
              "      quickchartButtonEl.classList.add('colab-df-quickchart-complete');\n",
              "    }\n",
              "    (() => {\n",
              "      let quickchartButtonEl =\n",
              "        document.querySelector('#df-f1ef101f-188c-4d17-9206-56c5304f0c14 button');\n",
              "      quickchartButtonEl.style.display =\n",
              "        google.colab.kernel.accessAllowed ? 'block' : 'none';\n",
              "    })();\n",
              "  </script>\n",
              "</div>\n",
              "    </div>\n",
              "  </div>\n"
            ]
          },
          "metadata": {},
          "execution_count": 58
        }
      ]
    },
    {
      "cell_type": "code",
      "source": [
        "# Verificar si hay valores nulos\n",
        "if datos.isnull().values.any():\n",
        "    print(\"Hay valores nulos en la matriz.\")\n",
        "else:\n",
        "    print(\"No hay valores nulos en la matriz.\")"
      ],
      "metadata": {
        "id": "ha0PAU1FgTyS",
        "outputId": "13c03f14-3ca9-4660-ba00-97fb07f621c9",
        "colab": {
          "base_uri": "https://localhost:8080/"
        }
      },
      "execution_count": 59,
      "outputs": [
        {
          "output_type": "stream",
          "name": "stdout",
          "text": [
            "No hay valores nulos en la matriz.\n"
          ]
        }
      ]
    },
    {
      "cell_type": "code",
      "source": [
        "datos.info()"
      ],
      "metadata": {
        "id": "jWs0qSodggyL",
        "outputId": "3cb69de6-fcdb-46c7-c582-9922760ccac5",
        "colab": {
          "base_uri": "https://localhost:8080/"
        }
      },
      "execution_count": 60,
      "outputs": [
        {
          "output_type": "stream",
          "name": "stdout",
          "text": [
            "<class 'pandas.core.frame.DataFrame'>\n",
            "Int64Index: 36733 entries, 14263 to 16471\n",
            "Data columns (total 11 columns):\n",
            " #   Column  Non-Null Count  Dtype  \n",
            "---  ------  --------------  -----  \n",
            " 0   AT      36733 non-null  float64\n",
            " 1   AP      36733 non-null  float64\n",
            " 2   AH      36733 non-null  float64\n",
            " 3   AFDP    36733 non-null  float64\n",
            " 4   GTEP    36733 non-null  float64\n",
            " 5   TIT     36733 non-null  float64\n",
            " 6   TAT     36733 non-null  float64\n",
            " 7   TEY     36733 non-null  float64\n",
            " 8   CDP     36733 non-null  float64\n",
            " 9   CO      36733 non-null  float64\n",
            " 10  NOX     36733 non-null  float64\n",
            "dtypes: float64(11)\n",
            "memory usage: 3.4 MB\n"
          ]
        }
      ]
    },
    {
      "cell_type": "code",
      "source": [
        "for columna in datos:\n",
        "  min = datos[columna].min()\n",
        "  max = datos[columna].max()\n",
        "  datos[columna] = (datos[columna] - min)/(max - min)\n",
        "\n",
        "print(datos)"
      ],
      "metadata": {
        "id": "cbyqklL9hkjh",
        "outputId": "029cc94a-9e71-4f53-bcd9-ed444710aac9",
        "colab": {
          "base_uri": "https://localhost:8080/"
        }
      },
      "execution_count": 61,
      "outputs": [
        {
          "output_type": "stream",
          "name": "stdout",
          "text": [
            "             AT        AP        AH      AFDP      GTEP       TIT       TAT  \\\n",
            "14263  0.332806  0.607882  0.916061  0.115513  0.264662  0.832168  0.986859   \n",
            "16321  0.470347  0.625616  0.774749  0.181073  0.283257  0.851149  0.984332   \n",
            "31759  0.628892  0.653202  0.427183  0.361240  0.687636  0.991009  0.757645   \n",
            "2347   0.448472  0.466010  0.998949  0.265933  0.202972  0.735265  0.980541   \n",
            "16316  0.488807  0.647291  0.829377  0.374928  0.644018  0.991009  0.486732   \n",
            "...         ...       ...       ...       ...       ...       ...       ...   \n",
            "7944   0.236041  0.653202  0.918912  0.705841  0.719915  0.991009  0.352034   \n",
            "12044  0.631061  0.605911  0.784313  0.238050  0.100356  0.575425  0.981804   \n",
            "13719  0.643498  0.434483  0.784720  0.276977  0.091233  0.557443  0.987364   \n",
            "28595  0.307655  0.678818  0.775852  0.077835  0.162612  0.624376  0.983826   \n",
            "16471  0.389378  0.623645  0.672390  0.383274  0.671996  0.991009  0.423048   \n",
            "\n",
            "            TEY       CDP        CO       NOX  \n",
            "14263  0.430171  0.365956  0.046390  0.455923  \n",
            "16321  0.424887  0.380653  0.057958  0.542461  \n",
            "31759  0.644061  0.687406  0.070155  0.432360  \n",
            "2347   0.320835  0.282484  0.038549  0.443604  \n",
            "16316  0.721188  0.758441  0.022488  0.446104  \n",
            "...         ...       ...       ...       ...  \n",
            "7944   0.847760  0.838710  0.008513  0.379363  \n",
            "12044  0.135757  0.131934  0.092067  0.299303  \n",
            "13719  0.118646  0.121382  0.117116  0.311313  \n",
            "28595  0.284600  0.248756  0.057190  0.496686  \n",
            "16471  0.781077  0.785951  0.021739  0.427105  \n",
            "\n",
            "[36733 rows x 11 columns]\n"
          ]
        }
      ]
    },
    {
      "cell_type": "code",
      "execution_count": 62,
      "metadata": {
        "id": "6ql0Bxcag3Zo"
      },
      "outputs": [],
      "source": [
        "class Adaline:\n",
        "  def __init__(self, learning_rate=0.001, n_iter = 1000, random_seed = 28):\n",
        "    self.learning_rate = learning_rate\n",
        "    self.n_iter = n_iter\n",
        "    self.random_seed = random_seed\n",
        "    self.weights = None\n",
        "    self.umbral = 0\n",
        "    self.costes = []\n",
        "\n",
        "  def fit(self, X, y):\n",
        "    \"\"\" Método que entrena el modelo \"\"\"\n",
        "    # Inicializamos el modelo\n",
        "    self.__initialize_Adaline(X)\n",
        "    # Realizamos la modificación de los pesos n_iter veces\n",
        "    for i in range(self.n_iter):\n",
        "      # Obtenemos la salida\n",
        "      salida = np.dot(X, self.weights) + self.umbral\n",
        "      # Obtenemos los errrores\n",
        "      errores = y - salida\n",
        "      # Actualizamos el vector de pesos\n",
        "      self.weights += self.learning_rate * X.T.dot(errores)\n",
        "      # Actualizamos el umbral\n",
        "      self.umbral += self.learning_rate * np.sum(errores)\n",
        "      # Obtenemos y guardamos el coste para cada época\n",
        "      coste = (errores**2).sum() / 2.0\n",
        "      self.costes.append(coste)\n",
        "\n",
        "\n",
        "  def __initialize_Adaline(self, X):\n",
        "    \"\"\" Método privado que inicializa los pesos y el umbral del Adaline de forma aleatoria \"\"\"\n",
        "    # Inicializamos la semilla de aleatoriedad\n",
        "    np.random.seed(self.random_seed)\n",
        "    # Generamos tantos números aleatorios desde -1 hasta 1 como atributos tenga el conjunto\n",
        "    self.weights = np.random.uniform(-1, 1, size=(X.shape[1]))\n",
        "    # Generamos el umbral de manera aleatoria\n",
        "    self.umbral = np.random.uniform(-1, 1)"
      ]
    },
    {
      "cell_type": "markdown",
      "source": [
        "Comprobamos nuestra implementación del Adaline utilizando los datos artificiales proporcionados en aulaglobal."
      ],
      "metadata": {
        "id": "u2D2yXaU3109"
      }
    },
    {
      "cell_type": "code",
      "source": [
        "data = pd.read_csv(\"datosArtificiales.txt\", delimiter=' ', header=None)\n",
        "\n",
        "X = data.iloc[:,:2]\n",
        "print(X.head(5))\n",
        "\n",
        "y = data.iloc[:,-1]\n",
        "print(y.head(6))"
      ],
      "metadata": {
        "id": "NjDe2E7_riwj",
        "outputId": "a29e4f2e-10b9-47c2-db04-5b114a5023e3",
        "colab": {
          "base_uri": "https://localhost:8080/"
        }
      },
      "execution_count": 63,
      "outputs": [
        {
          "output_type": "stream",
          "name": "stdout",
          "text": [
            "          0         1\n",
            "0  0.075144  0.208514\n",
            "1  0.955954  0.504891\n",
            "2  0.126028  0.301368\n",
            "3  0.584149  0.734279\n",
            "4  0.298572  0.491662\n",
            "0    0.941773\n",
            "1    2.407016\n",
            "2    0.950687\n",
            "3    1.434018\n",
            "4    1.105482\n",
            "5    0.758963\n",
            "Name: 2, dtype: float64\n"
          ]
        }
      ]
    },
    {
      "cell_type": "code",
      "source": [
        "modelo = Adaline()\n",
        "modelo.fit(X,y)\n",
        "print(modelo.costes)"
      ],
      "metadata": {
        "id": "Jg29vxu15EUT",
        "outputId": "c0f00c47-eed5-4290-baec-cfc8bb52bba3",
        "colab": {
          "base_uri": "https://localhost:8080/"
        }
      },
      "execution_count": 64,
      "outputs": [
        {
          "output_type": "stream",
          "name": "stdout",
          "text": [
            "[2076.3280166311943, 634.0853402876381, 245.86732324393924, 132.69625664990016, 92.69588647498983, 73.3232409296947, 60.71413214901114, 51.053217610814826, 43.16149666885429, 36.57297616953956, 31.03212482700233, 26.359649285452264, 22.414230841168155, 19.07966197011835, 16.259036934719198, 13.87117197598524, 11.847940927613841, 10.132130919688354, 8.675669584028386, 7.438146588340415, 6.385577145660816, 5.489366871252716, 4.725444827607409, 4.073537238028926, 3.516558908036073, 3.040103164688498, 2.6320142661912365, 2.2820288586713238, 1.9814752508108004, 1.7230211112575642, 1.5004617275390073, 1.3085422478864155, 1.1428084001319776, 0.9994810790878005, 0.8753509443280545, 0.7676897981199144, 0.6741760384881308, 0.5928319218558211, 0.5219707374274238, 0.46015230321198386, 0.40614545114344286, 0.3588963843472265, 0.3175019700916176, 0.28118718308595203, 0.2492860403433802, 0.2212254748256718, 0.19651168388634033, 0.17471856293201493, 0.15547789707717863, 0.13847103583695977, 0.12342181972849486, 0.11009056440700912, 0.09826893879736234, 0.0877755995568866, 0.07845246592553097, 0.07016153725799457, 0.06278217085330884, 0.05620875057201431, 0.05034868755475012, 0.04512070345942661, 0.040453354294290575, 0.036283759373104796, 0.032556505350794775, 0.029222699876162002, 0.026239153259167442, 0.023567669808327883, 0.021174433244933198, 0.01902947292558701, 0.01710619957056911, 0.015381000859399824, 0.013832888664357047, 0.012443190887534483, 0.011195281880924671, 0.010074346290186796, 0.009067171894957708, 0.008161967641761986, 0.007348203596561017, 0.00661646999693507, 0.0059583529707058075, 0.005366324818566625, 0.004833647041447103, 0.004354284536077632, 0.003922829590566791, 0.003534434490886365, 0.00318475170329, 0.002869880730535586, 0.002586320854445374, 0.002330929076443508, 0.002100882653502335, 0.0018936457012948048, 0.0017069394009152801, 0.0015387154016602007, 0.0013871320612323908, 0.0012505332073471922, 0.0011274291419268454, 0.001016479641608033, 0.0009164787367792091, 0.0008263410763462496, 0.0007450897073630853, 0.0006718451179489832, 0.0006058154088938263, 0.0005462874743173937, 0.000492619084956925, 0.00044423177932460486, 0.00040060447830039516, 0.0003612677478634107, 0.0003257986427693949, 0.00029381607116896516, 0.0002649766265478596, 0.00023897083904664003, 0.00021551980326802518, 0.0001943721441782879, 0.00017530128671780897, 0.00015810299831105104, 0.00014259317665790726, 0.00012860585803832478, 0.00011599142390929431, 0.00010461498585160918, 9.435493096155849e-05, 8.510161160797185e-05, 7.675616510866443e-05, 6.922945034567332e-05, 6.244108965119129e-05, 5.6318605473735126e-05, 5.0796642391103615e-05, 4.58162659844697e-05, 4.13243309399321e-05, 3.727291150828332e-05, 3.3618788141107054e-05, 3.0322984738643037e-05, 2.7350351499967906e-05, 2.4669188864951494e-05, 2.225090848659064e-05, 2.0069727575653053e-05, 1.8102393323055685e-05, 1.632793443208299e-05, 1.4727437086851233e-05, 1.3283842948055766e-05, 1.1981767005599207e-05, 1.0807333332201098e-05, 9.74802697543128e-06, 8.792560399714473e-06, 7.930753046615205e-06, 7.153422723024569e-06, 6.452287654023001e-06, 5.819878151901693e-06, 5.249456956203728e-06, 4.734947392576748e-06, 4.270868582250168e-06, 3.852277009532039e-06, 3.474713822859139e-06, 3.134157306284074e-06, 2.8269800138435724e-06, 2.5499101089175656e-06, 2.299996495898366e-06, 2.0745773718885835e-06, 1.8712518628356796e-06, 1.6878544414091379e-06, 1.5224318536632883e-06, 1.3732223083680666e-06, 1.2386367070234892e-06, 1.117241714351342e-06, 1.0077444887763859e-06, 9.08978910031736e-07, 8.198931570966272e-07, 7.395385039936484e-07, 6.670592140620966e-07, 6.01683424939955e-07, 5.427149271393785e-07, 4.895257485800703e-07, 4.415494660693037e-07, 3.982751724344428e-07, 3.5924203503722906e-07, 3.240343876925295e-07, 2.9227730369094074e-07, 2.6363260275677005e-07, 2.3779524941417436e-07, 2.1449010437723286e-07, 1.934689943653323e-07, 1.7450806912427077e-07, 1.574054175088319e-07, 1.4197891721601634e-07, 1.2806429528630027e-07, 1.155133786933247e-07, 1.0419251640464961e-07, 9.398115609887816e-08, 8.477056037855754e-08, 7.64626488147764e-08, 6.896895347624289e-08, 6.22096768336881e-08, 5.6112841994981327e-08, 5.0613526227164066e-08, 4.565316960078897e-08, 4.117895139075854e-08, 3.7143227597408294e-08, 3.3503023592988996e-08, 3.0219576496168434e-08, 2.725792239345509e-08, 2.4586524017691687e-08, 2.2176934917546213e-08, 2.0003496538806644e-08, 1.804306499509827e-08, 1.6274764616944784e-08, 1.4679765653379812e-08, 1.3241083761823975e-08, 1.1943399147047277e-08, 1.0772893428248943e-08, 9.717102491756184e-09, 8.764783766146608e-09, 7.905796505108946e-09, 7.1309938029660835e-09, 6.432125193311447e-09, 5.801748793818857e-09, 5.233152061143465e-09, 4.7202803116754e-09, 4.257672248563539e-09, 3.840401807106857e-09, 3.464025699025233e-09, 3.1245360984313935e-09, 2.8183179645411217e-09, 2.5421105465963836e-09, 2.2929726622623022e-09, 2.0682513781552153e-09, 1.865553760102508e-09, 1.6827213920995657e-09, 1.517807392626628e-09, 1.3690556830390961e-09, 1.2348822881617861e-09, 1.1138584694728607e-09, 1.0046955110088937e-09, 9.06230996778894e-10, 8.174164325870105e-10, 7.37306081192569e-10, 6.650468918903146e-10, 5.998694166206875e-10, 5.410796166121982e-10, 4.880514719326646e-10, 4.4022031525982675e-10, 3.9707681923164986e-10, 3.581615727666967e-10, 3.230601889777407e-10, 2.9139889285065424e-10, 2.6284054082600557e-10, 2.3708103095025166e-10, 2.1384606454243286e-10, 1.9288822539364837e-10, 1.7398434520441957e-10, 1.5693312704853373e-10, 1.415530020452976e-10, 1.2768019582215222e-10, 1.1516698463261343e-10, 1.0388012226841591e-10, 9.369942122226385e-11, 8.45164729054134e-11, 7.62334932330137e-11, 6.876228136804532e-11, 6.20232805883029e-11, 5.594473102571008e-11, 5.046190559810064e-11, 4.551642076748675e-11, 4.1055614811127596e-11, 3.7031987136902505e-11, 3.340269235396189e-11, 3.0129084152717644e-11, 2.7176303707623024e-11, 2.4512908507289455e-11, 2.2110537543709515e-11, 1.9943609316905423e-11, 1.798904942462377e-11, 1.6226044849556962e-11, 1.463582234363358e-11, 1.320144850911931e-11, 1.1907649510741075e-11, 1.074064841109319e-11, 9.688018458633737e-12, 8.738550787722902e-12, 7.882135053487037e-12, 7.109651757566991e-12, 6.41287516861768e-12, 5.784385693322972e-12, 5.217490904621926e-12, 4.706154250327891e-12, 4.244930798790351e-12, 3.8289092407988864e-12, 3.4536595912289813e-12, 3.1151860281308927e-12, 2.8098843391366744e-12, 2.534503534352131e-12, 2.2861112391814067e-12, 2.0620624605773083e-12, 1.859971432142006e-12, 1.6776861940695526e-12, 1.513265699823064e-12, 1.364959124097968e-12, 1.231187231638941e-12, 1.110525561951211e-12, 1.0016892594089405e-12, 9.035193826266414e-13, 8.149705793557282e-13, 7.350999414798651e-13, 6.630569713427009e-13, 5.980745229304521e-13, 5.394606359868992e-13, 4.865911617449382e-13, 4.3890312529933045e-13, 3.9588872286240476e-13, 3.5708991800101906e-13, 3.2209356294423303e-13, 2.905270027988455e-13, 2.620541011071909e-13, 2.363716671579974e-13, 2.1320622267840313e-13, 1.923110912535973e-13, 1.7346377347082412e-13, 1.5646357462863177e-13, 1.4112946850791416e-13, 1.2729817074931354e-13, 1.1482240023679437e-13, 1.0356930920228951e-13, 9.341906920143075e-14, 8.426359645557744e-14, 7.600540017041684e-14, 6.855654264849932e-14, 6.183770550601203e-14, 5.57773431034837e-14, 5.0310922560735294e-14, 4.5380235044383195e-14, 4.0932775686340044e-14, 3.692118698767094e-14, 3.3302751139485373e-14, 3.003893740743345e-14, 2.7094991847267736e-14, 2.4439565834345938e-14, 2.2044382722208028e-14, 1.9883937981659076e-14, 1.793522603914579e-14, 1.6177496388650156e-14, 1.4592031834048926e-14, 1.3161949745555583e-14, 1.187202182312849e-14, 1.0708512344225135e-14, 9.659031906964298e-15, 8.712405096584454e-15, 7.858551787224934e-15, 7.0883797055739865e-15, 6.3936878200959866e-15, 5.767078758986448e-15, 5.2018802324131255e-15, 4.692073456593576e-15, 4.232229973730106e-15, 3.817453133783428e-15, 3.4433262401083707e-15, 3.1058653500458882e-15, 2.8014771436382912e-15, 2.5269203405191896e-15, 2.2792711616559364e-15, 2.0558927033560098e-15, 1.854406311669426e-15, 1.6726665246086152e-15, 1.5087379541405223e-15, 1.3608750853628593e-15, 1.2275034457861229e-15, 1.1072027881339963e-15, 9.986920975193954e-16, 9.008159761560396e-16, 8.125321552147705e-16, 7.329004865627497e-16, 6.610730453114975e-16, 5.96285065721472e-16, 5.378465632236983e-16, 4.851352709934899e-16, 4.3758990026864007e-16, 3.9470419482436295e-16, 3.5602146646025e-16, 3.211298159679339e-16, 2.8965770736745705e-16, 2.6127000992022033e-16, 2.356644200980372e-16, 2.125682774783012e-16, 1.9173568837502645e-16, 1.7294476522306355e-16, 1.5599542463580699e-16, 1.4070720852071608e-16, 1.2691730565891598e-16, 1.1447885875145185e-16, 1.0325943933299253e-16, 9.313956453034873e-17, 8.40114927910199e-17, 7.577801364083413e-17, 6.835143261944789e-17, 6.165270129118753e-17, 5.561047265550834e-17, 5.0160411839799163e-17, 4.524446884593656e-17, 4.0810317977667834e-17, 3.6810725161596584e-17, 3.320310854817621e-17, 2.9949056715826465e-17, 2.7013928068598922e-17, 2.4366448334568055e-17, 2.197842854620267e-17, 1.9824445242531204e-17, 1.788156369375876e-17, 1.6129090079554407e-17, 1.45483707140698e-17, 1.3122562805577737e-17, 1.1836494095361848e-17, 1.0676469683866592e-17, 9.630127948738886e-18, 8.686336376293527e-18, 7.835034973137171e-18, 7.067166616421304e-18, 6.374554923084617e-18, 5.749819298648413e-18, 5.186312146961998e-18, 4.678033362247567e-18, 4.219566692248588e-18, 3.806029735785922e-18, 3.4330227178007684e-18, 3.096573501723348e-18, 2.7930962054210147e-18, 2.519361599309284e-18, 2.272453926991885e-18, 2.0497430187322727e-18, 1.8488569983381066e-18, 1.6676607867218987e-18, 1.5042224499034647e-18, 1.3568021913332326e-18, 1.2238284996243904e-18, 1.1038887273346766e-18, 9.957033745982927e-19, 8.981192892908464e-19, 8.100995139039199e-19, 7.307059516438565e-19, 6.590937819422135e-19, 5.945001006674582e-19, 5.362363100170279e-19, 4.836828197547458e-19, 4.362801133166711e-19, 3.935224598525802e-19, 3.5495563538958695e-19, 3.201680069230139e-19, 2.887904714043861e-19, 2.604878130540829e-19, 2.34959313136433e-19, 2.1193162434185136e-19, 1.9116151767253126e-19, 1.7242663388918267e-19, 1.5552878243787904e-19, 1.402859824166897e-19, 1.2653748227149886e-19, 1.1413625876620762e-19, 1.0295051294348418e-19, 9.286072811722922e-20, 8.37599212171418e-20, 7.555127539254018e-20, 6.814684884742142e-20, 6.146795705282674e-20, 5.544396884034188e-20, 5.001006066052767e-20, 4.5108829377131994e-20, 4.068785913314069e-20, 3.6700540335643024e-20, 3.310375730880393e-20, 2.9859749178630684e-20, 2.6933555204367167e-20, 2.4293798236139488e-20, 2.1913021849368673e-20, 1.9765612403163333e-20, 1.7828597430883405e-20, 1.6081224473299426e-20, 1.4505257100320474e-20, 1.3083524254112778e-20, 1.180137640737996e-20, 1.0644844560171495e-20, 9.601453741847454e-21, 8.660509925770912e-21, 7.811820115311293e-21, 7.04631069769113e-21, 6.3557556256508565e-21, 5.73282670462289e-21, 5.171000587257333e-21, 4.6642182647769264e-21, 4.207180973448087e-21, 3.794834126707094e-21, 3.42296125307158e-21, 3.087516482971997e-21, 2.784864779361307e-21, 2.5119384794733063e-21, 2.265765410049713e-21, 2.043681141463153e-21, 1.8434388413252157e-21, 1.6627618208066464e-21, 1.4998312532907665e-21, 1.3528108592173409e-21, 1.2202055338149159e-21, 1.1006254404904357e-21, 9.9278991787858e-22, 8.954701495819363e-22, 8.07692996951143e-22, 7.28544308839353e-22, 6.571689115873983e-22, 5.92754012117575e-22, 5.3463529685036785e-22, 4.82260917341424e-22, 4.350127342771709e-22, 3.923995007313455e-22, 3.539298370395117e-22, 3.1923911409289883e-22, 2.8797837071279048e-22, 2.5977538269000585e-22, 2.343183700635554e-22, 2.113356655743376e-22, 1.9062830330415725e-22, 1.71952305409198e-22, 1.5508675566081344e-22, 1.39896693661497e-22, 1.2617128491433417e-22, 1.1380531617769335e-22, 1.0265566176437921e-22, 9.258463536802718e-23, 8.351157071946746e-23, 7.53356898920413e-23, 6.79473762071367e-23, 6.129038498230261e-23, 5.528443055526706e-23, 4.9868793732079945e-23, 4.497370194120492e-23, 4.0564579446144014e-23, 3.6586493720546926e-23, 3.300223609987391e-23, 2.976828123298321e-23, 2.6847084653271463e-23, 2.421585175957763e-23, 2.1844456009398102e-23, 1.970223641621045e-23, 1.7772051990886962e-23, 1.6033826303508448e-23, 1.4460506284532263e-23, 1.3041843219478123e-23, 1.1763327241508164e-23, 1.0612956771803261e-23, 9.569896708876069e-24, 8.630671488734067e-24, 7.780052493647121e-24, 7.019066857491685e-24, 6.331967828834314e-24, 5.713662204277646e-24, 5.1514634241363045e-24, 4.647314351130747e-24, 4.190137976074672e-24, 3.782940577003654e-24, 3.41381642478004e-24, 3.0782145099673894e-24, 2.775055664684383e-24, 2.5044931960360822e-24, 2.2594258212945183e-24, 2.0357290674984045e-24, 1.8359090625434547e-24, 1.6545686697166672e-24, 1.4925417273208125e-24, 1.3472237864254e-24, 1.2157200387385477e-24, 1.0961005668705114e-24, 9.890591185206506e-25, 8.917501244924135e-25, 8.045327106314139e-25, 7.261805988234617e-25, 6.542536604809214e-25, 5.899909279964471e-25, 5.331543749178399e-25, 4.81362938617743e-25, 4.350323611191594e-25, 3.9301106881932574e-25, 3.547693570278257e-25, 3.2041659083210923e-25, 2.8995008009323004e-25, 2.611603178603014e-25, 2.3604242272577667e-25, 2.1343579540880107e-25, 1.92403617362106e-25, 1.741201296135283e-25, 1.5781957009122796e-25, 1.4263571713597784e-25, 1.285751959467866e-25, 1.1631908314472364e-25, 1.054613033343627e-25, 9.55287156173821e-26, 8.640108033549385e-26, 7.792064995955705e-26, 7.062031235700012e-26, 6.434067756562559e-26, 5.847239983995679e-26, 5.298191869515482e-26, 4.804180669870049e-26, 4.3843368783085737e-26, 3.9625326441381076e-26, 3.621949652028713e-26, 3.3095182090280205e-26, 3.0267920013407654e-26, 2.774406739922991e-26, 2.537640308131011e-26, 2.312106207923488e-26, 2.1065050204171864e-26, 1.9222434448434865e-26, 1.7803131931498358e-26, 1.632292688748846e-26, 1.50815710529496e-26, 1.4096222152570336e-26, 1.3093746342381625e-26, 1.2219426532924307e-26, 1.1440922508572232e-26, 1.0592363938051038e-26, 9.932722146890721e-27, 9.266251778519585e-27, 8.713565351262847e-27, 8.133613918969407e-27, 7.666682218788432e-27, 7.165653854872026e-27, 6.813704794602836e-27, 6.408073133435774e-27, 6.079888507936367e-27, 5.781557337318918e-27, 5.560137023472606e-27, 5.329684868559096e-27, 5.17087422608888e-27, 4.940945924120243e-27, 4.818811150766982e-27, 4.6450552919283214e-27, 4.523986713392273e-27, 4.385384468642524e-27, 4.266100071606956e-27, 4.1640381105060764e-27, 4.048574758480173e-27, 3.9189827843822445e-27, 3.822261041831162e-27, 3.8036057140178495e-27, 3.768569196469557e-27, 3.7209571267563934e-27, 3.694262196983231e-27, 3.68096249515927e-27, 3.658054714028751e-27, 3.658513855727493e-27, 3.643257409080035e-27, 3.6358371861903e-27, 3.6169260948803725e-27, 3.6049452698823284e-27, 3.565739499190426e-27, 3.5679735779259155e-27, 3.561899965253296e-27, 3.556263923864041e-27, 3.546443221891622e-27, 3.540825669429833e-27, 3.4821972804347745e-27, 3.447308674306211e-27, 3.4299229195122384e-27, 3.426980098557215e-27, 3.4211375974779216e-27, 3.4211375974779216e-27, 3.4211375974779216e-27, 3.4211375974779216e-27, 3.4211375974779216e-27, 3.4211375974779216e-27, 3.4211375974779216e-27, 3.4211375974779216e-27, 3.4211375974779216e-27, 3.4211375974779216e-27, 3.4211375974779216e-27, 3.4211375974779216e-27, 3.4211375974779216e-27, 3.4211375974779216e-27, 3.4211375974779216e-27, 3.4211375974779216e-27, 3.4211375974779216e-27, 3.4211375974779216e-27, 3.4211375974779216e-27, 3.4211375974779216e-27, 3.4211375974779216e-27, 3.4211375974779216e-27, 3.4211375974779216e-27, 3.4211375974779216e-27, 3.4211375974779216e-27, 3.4211375974779216e-27, 3.4211375974779216e-27, 3.4211375974779216e-27, 3.4211375974779216e-27, 3.4211375974779216e-27, 3.4211375974779216e-27, 3.4211375974779216e-27, 3.4211375974779216e-27, 3.4211375974779216e-27, 3.4211375974779216e-27, 3.4211375974779216e-27, 3.4211375974779216e-27, 3.4211375974779216e-27, 3.4211375974779216e-27, 3.4211375974779216e-27, 3.4211375974779216e-27, 3.4211375974779216e-27, 3.4211375974779216e-27, 3.4211375974779216e-27, 3.4211375974779216e-27, 3.4211375974779216e-27, 3.4211375974779216e-27, 3.4211375974779216e-27, 3.4211375974779216e-27, 3.4211375974779216e-27, 3.4211375974779216e-27, 3.4211375974779216e-27, 3.4211375974779216e-27, 3.4211375974779216e-27, 3.4211375974779216e-27, 3.4211375974779216e-27, 3.4211375974779216e-27, 3.4211375974779216e-27, 3.4211375974779216e-27, 3.4211375974779216e-27, 3.4211375974779216e-27, 3.4211375974779216e-27, 3.4211375974779216e-27, 3.4211375974779216e-27, 3.4211375974779216e-27, 3.4211375974779216e-27, 3.4211375974779216e-27, 3.4211375974779216e-27, 3.4211375974779216e-27, 3.4211375974779216e-27, 3.4211375974779216e-27, 3.4211375974779216e-27, 3.4211375974779216e-27, 3.4211375974779216e-27, 3.4211375974779216e-27, 3.4211375974779216e-27, 3.4211375974779216e-27, 3.4211375974779216e-27, 3.4211375974779216e-27, 3.4211375974779216e-27, 3.4211375974779216e-27, 3.4211375974779216e-27, 3.4211375974779216e-27, 3.4211375974779216e-27, 3.4211375974779216e-27, 3.4211375974779216e-27, 3.4211375974779216e-27, 3.4211375974779216e-27, 3.4211375974779216e-27, 3.4211375974779216e-27, 3.4211375974779216e-27, 3.4211375974779216e-27, 3.4211375974779216e-27, 3.4211375974779216e-27, 3.4211375974779216e-27, 3.4211375974779216e-27, 3.4211375974779216e-27, 3.4211375974779216e-27, 3.4211375974779216e-27, 3.4211375974779216e-27, 3.4211375974779216e-27, 3.4211375974779216e-27, 3.4211375974779216e-27, 3.4211375974779216e-27, 3.4211375974779216e-27, 3.4211375974779216e-27, 3.4211375974779216e-27, 3.4211375974779216e-27, 3.4211375974779216e-27, 3.4211375974779216e-27, 3.4211375974779216e-27, 3.4211375974779216e-27, 3.4211375974779216e-27, 3.4211375974779216e-27, 3.4211375974779216e-27, 3.4211375974779216e-27, 3.4211375974779216e-27, 3.4211375974779216e-27, 3.4211375974779216e-27, 3.4211375974779216e-27, 3.4211375974779216e-27, 3.4211375974779216e-27, 3.4211375974779216e-27, 3.4211375974779216e-27, 3.4211375974779216e-27, 3.4211375974779216e-27, 3.4211375974779216e-27, 3.4211375974779216e-27, 3.4211375974779216e-27, 3.4211375974779216e-27, 3.4211375974779216e-27, 3.4211375974779216e-27, 3.4211375974779216e-27, 3.4211375974779216e-27, 3.4211375974779216e-27, 3.4211375974779216e-27, 3.4211375974779216e-27, 3.4211375974779216e-27, 3.4211375974779216e-27, 3.4211375974779216e-27, 3.4211375974779216e-27, 3.4211375974779216e-27, 3.4211375974779216e-27, 3.4211375974779216e-27, 3.4211375974779216e-27, 3.4211375974779216e-27, 3.4211375974779216e-27, 3.4211375974779216e-27, 3.4211375974779216e-27, 3.4211375974779216e-27, 3.4211375974779216e-27, 3.4211375974779216e-27, 3.4211375974779216e-27, 3.4211375974779216e-27, 3.4211375974779216e-27, 3.4211375974779216e-27, 3.4211375974779216e-27, 3.4211375974779216e-27, 3.4211375974779216e-27, 3.4211375974779216e-27, 3.4211375974779216e-27, 3.4211375974779216e-27, 3.4211375974779216e-27, 3.4211375974779216e-27, 3.4211375974779216e-27, 3.4211375974779216e-27, 3.4211375974779216e-27, 3.4211375974779216e-27, 3.4211375974779216e-27, 3.4211375974779216e-27, 3.4211375974779216e-27, 3.4211375974779216e-27, 3.4211375974779216e-27, 3.4211375974779216e-27, 3.4211375974779216e-27, 3.4211375974779216e-27, 3.4211375974779216e-27, 3.4211375974779216e-27, 3.4211375974779216e-27, 3.4211375974779216e-27, 3.4211375974779216e-27, 3.4211375974779216e-27, 3.4211375974779216e-27, 3.4211375974779216e-27, 3.4211375974779216e-27, 3.4211375974779216e-27, 3.4211375974779216e-27, 3.4211375974779216e-27, 3.4211375974779216e-27, 3.4211375974779216e-27, 3.4211375974779216e-27, 3.4211375974779216e-27, 3.4211375974779216e-27, 3.4211375974779216e-27, 3.4211375974779216e-27, 3.4211375974779216e-27, 3.4211375974779216e-27, 3.4211375974779216e-27, 3.4211375974779216e-27, 3.4211375974779216e-27, 3.4211375974779216e-27, 3.4211375974779216e-27, 3.4211375974779216e-27, 3.4211375974779216e-27, 3.4211375974779216e-27, 3.4211375974779216e-27, 3.4211375974779216e-27, 3.4211375974779216e-27, 3.4211375974779216e-27, 3.4211375974779216e-27, 3.4211375974779216e-27, 3.4211375974779216e-27, 3.4211375974779216e-27, 3.4211375974779216e-27, 3.4211375974779216e-27, 3.4211375974779216e-27, 3.4211375974779216e-27, 3.4211375974779216e-27, 3.4211375974779216e-27, 3.4211375974779216e-27, 3.4211375974779216e-27, 3.4211375974779216e-27, 3.4211375974779216e-27, 3.4211375974779216e-27, 3.4211375974779216e-27, 3.4211375974779216e-27, 3.4211375974779216e-27, 3.4211375974779216e-27, 3.4211375974779216e-27, 3.4211375974779216e-27, 3.4211375974779216e-27, 3.4211375974779216e-27, 3.4211375974779216e-27, 3.4211375974779216e-27, 3.4211375974779216e-27, 3.4211375974779216e-27, 3.4211375974779216e-27, 3.4211375974779216e-27, 3.4211375974779216e-27, 3.4211375974779216e-27, 3.4211375974779216e-27, 3.4211375974779216e-27, 3.4211375974779216e-27, 3.4211375974779216e-27, 3.4211375974779216e-27, 3.4211375974779216e-27, 3.4211375974779216e-27, 3.4211375974779216e-27, 3.4211375974779216e-27, 3.4211375974779216e-27, 3.4211375974779216e-27, 3.4211375974779216e-27, 3.4211375974779216e-27, 3.4211375974779216e-27, 3.4211375974779216e-27, 3.4211375974779216e-27, 3.4211375974779216e-27, 3.4211375974779216e-27, 3.4211375974779216e-27, 3.4211375974779216e-27, 3.4211375974779216e-27, 3.4211375974779216e-27, 3.4211375974779216e-27, 3.4211375974779216e-27, 3.4211375974779216e-27, 3.4211375974779216e-27, 3.4211375974779216e-27, 3.4211375974779216e-27, 3.4211375974779216e-27, 3.4211375974779216e-27, 3.4211375974779216e-27, 3.4211375974779216e-27, 3.4211375974779216e-27, 3.4211375974779216e-27, 3.4211375974779216e-27, 3.4211375974779216e-27, 3.4211375974779216e-27, 3.4211375974779216e-27, 3.4211375974779216e-27, 3.4211375974779216e-27, 3.4211375974779216e-27, 3.4211375974779216e-27, 3.4211375974779216e-27, 3.4211375974779216e-27, 3.4211375974779216e-27, 3.4211375974779216e-27, 3.4211375974779216e-27, 3.4211375974779216e-27, 3.4211375974779216e-27, 3.4211375974779216e-27, 3.4211375974779216e-27, 3.4211375974779216e-27, 3.4211375974779216e-27, 3.4211375974779216e-27, 3.4211375974779216e-27, 3.4211375974779216e-27, 3.4211375974779216e-27, 3.4211375974779216e-27, 3.4211375974779216e-27, 3.4211375974779216e-27, 3.4211375974779216e-27, 3.4211375974779216e-27, 3.4211375974779216e-27, 3.4211375974779216e-27, 3.4211375974779216e-27, 3.4211375974779216e-27, 3.4211375974779216e-27, 3.4211375974779216e-27, 3.4211375974779216e-27, 3.4211375974779216e-27, 3.4211375974779216e-27, 3.4211375974779216e-27, 3.4211375974779216e-27, 3.4211375974779216e-27, 3.4211375974779216e-27, 3.4211375974779216e-27, 3.4211375974779216e-27, 3.4211375974779216e-27, 3.4211375974779216e-27, 3.4211375974779216e-27, 3.4211375974779216e-27, 3.4211375974779216e-27, 3.4211375974779216e-27, 3.4211375974779216e-27, 3.4211375974779216e-27, 3.4211375974779216e-27, 3.4211375974779216e-27, 3.4211375974779216e-27, 3.4211375974779216e-27, 3.4211375974779216e-27, 3.4211375974779216e-27, 3.4211375974779216e-27, 3.4211375974779216e-27, 3.4211375974779216e-27, 3.4211375974779216e-27, 3.4211375974779216e-27, 3.4211375974779216e-27, 3.4211375974779216e-27, 3.4211375974779216e-27, 3.4211375974779216e-27, 3.4211375974779216e-27, 3.4211375974779216e-27, 3.4211375974779216e-27]\n"
          ]
        }
      ]
    },
    {
      "cell_type": "markdown",
      "source": [
        "Podemos observar que, efectivamente, el error cuadrático medio desciende en cada época, y se va aproximando a 0"
      ],
      "metadata": {
        "id": "jubtp44cBUjl"
      }
    },
    {
      "cell_type": "markdown",
      "source": [
        "Vamos a dividir los datos en conjuntos train, test y validacion\n"
      ],
      "metadata": {
        "id": "okpSS5Nzj54Z"
      }
    },
    {
      "cell_type": "code",
      "source": [
        "train_ratio = 0.7\n",
        "test_ratio = 0.15\n",
        "validation_ratio = 0.15\n",
        "\n",
        "train_df, test_validation_df = train_test_split(datos, test_size=(test_ratio + validation_ratio), random_state=123)\n",
        "test_df, validation_df = train_test_split(test_validation_df, test_size=(validation_ratio / (test_ratio + validation_ratio)), random_state=123)\n"
      ],
      "metadata": {
        "id": "lRxgG08Zj5L7"
      },
      "execution_count": 65,
      "outputs": []
    }
  ]
}